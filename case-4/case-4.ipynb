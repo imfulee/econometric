{
 "metadata": {
  "language_info": {
   "codemirror_mode": {
    "name": "ipython",
    "version": 3
   },
   "file_extension": ".py",
   "mimetype": "text/x-python",
   "name": "python",
   "nbconvert_exporter": "python",
   "pygments_lexer": "ipython3",
   "version": "3.8.6-final"
  },
  "orig_nbformat": 2,
  "kernelspec": {
   "name": "python3",
   "display_name": "Python 3"
  }
 },
 "nbformat": 4,
 "nbformat_minor": 2,
 "cells": [
  {
   "cell_type": "code",
   "execution_count": 1,
   "metadata": {},
   "outputs": [
    {
     "output_type": "execute_result",
     "data": {
      "text/plain": [
       "   Age  Female  Fail  Work Experience  English  Country Code  PG Degree  \\\n",
       "0   22       1     0                0        0            10          0   \n",
       "1   24       0     1                0        1             8          0   \n",
       "2   28       0     0                0        1            10          0   \n",
       "3   23       0     0                0        1             8          0   \n",
       "4   23       0     0                1        1             8          0   \n",
       "\n",
       "   Agrade  BelowBGrade  Year2004  Year2005  Year2006  Year2007  \n",
       "0       0            0         0         0         0         0  \n",
       "1       0            0         0         0         0         0  \n",
       "2       0            0         0         0         0         0  \n",
       "3       0            0         0         0         0         0  \n",
       "4       0            0         0         0         0         0  "
      ],
      "text/html": "<div>\n<style scoped>\n    .dataframe tbody tr th:only-of-type {\n        vertical-align: middle;\n    }\n\n    .dataframe tbody tr th {\n        vertical-align: top;\n    }\n\n    .dataframe thead th {\n        text-align: right;\n    }\n</style>\n<table border=\"1\" class=\"dataframe\">\n  <thead>\n    <tr style=\"text-align: right;\">\n      <th></th>\n      <th>Age</th>\n      <th>Female</th>\n      <th>Fail</th>\n      <th>Work Experience</th>\n      <th>English</th>\n      <th>Country Code</th>\n      <th>PG Degree</th>\n      <th>Agrade</th>\n      <th>BelowBGrade</th>\n      <th>Year2004</th>\n      <th>Year2005</th>\n      <th>Year2006</th>\n      <th>Year2007</th>\n    </tr>\n  </thead>\n  <tbody>\n    <tr>\n      <th>0</th>\n      <td>22</td>\n      <td>1</td>\n      <td>0</td>\n      <td>0</td>\n      <td>0</td>\n      <td>10</td>\n      <td>0</td>\n      <td>0</td>\n      <td>0</td>\n      <td>0</td>\n      <td>0</td>\n      <td>0</td>\n      <td>0</td>\n    </tr>\n    <tr>\n      <th>1</th>\n      <td>24</td>\n      <td>0</td>\n      <td>1</td>\n      <td>0</td>\n      <td>1</td>\n      <td>8</td>\n      <td>0</td>\n      <td>0</td>\n      <td>0</td>\n      <td>0</td>\n      <td>0</td>\n      <td>0</td>\n      <td>0</td>\n    </tr>\n    <tr>\n      <th>2</th>\n      <td>28</td>\n      <td>0</td>\n      <td>0</td>\n      <td>0</td>\n      <td>1</td>\n      <td>10</td>\n      <td>0</td>\n      <td>0</td>\n      <td>0</td>\n      <td>0</td>\n      <td>0</td>\n      <td>0</td>\n      <td>0</td>\n    </tr>\n    <tr>\n      <th>3</th>\n      <td>23</td>\n      <td>0</td>\n      <td>0</td>\n      <td>0</td>\n      <td>1</td>\n      <td>8</td>\n      <td>0</td>\n      <td>0</td>\n      <td>0</td>\n      <td>0</td>\n      <td>0</td>\n      <td>0</td>\n      <td>0</td>\n    </tr>\n    <tr>\n      <th>4</th>\n      <td>23</td>\n      <td>0</td>\n      <td>0</td>\n      <td>1</td>\n      <td>1</td>\n      <td>8</td>\n      <td>0</td>\n      <td>0</td>\n      <td>0</td>\n      <td>0</td>\n      <td>0</td>\n      <td>0</td>\n      <td>0</td>\n    </tr>\n  </tbody>\n</table>\n</div>"
     },
     "metadata": {},
     "execution_count": 1
    }
   ],
   "source": [
    "import pandas as pd \n",
    "\n",
    "msc_fail = pd.read_csv(\"MSc_fail.csv\") \n",
    "\n",
    "msc_fail.head()"
   ]
  },
  {
   "source": [
    "# Question 1"
   ],
   "cell_type": "markdown",
   "metadata": {}
  },
  {
   "cell_type": "code",
   "execution_count": 2,
   "metadata": {},
   "outputs": [
    {
     "output_type": "stream",
     "name": "stdout",
     "text": [
      "[[ 0.0157023  -0.22056742 -0.66264449  0.04256528  0.21030045 -1.13235527\n",
      "   0.43092646  0.15206847 -0.00890472  0.85626356  0.80157956]]\n",
      "Training set score: 0.867\n",
      "Test set score: 0.864\n",
      "Optimization terminated successfully.\n",
      "         Current function value: 0.363545\n",
      "         Iterations 7\n",
      "                           Logit Regression Results                           \n",
      "==============================================================================\n",
      "Dep. Variable:                   Fail   No. Observations:                  500\n",
      "Model:                          Logit   Df Residuals:                      489\n",
      "Method:                           MLE   Df Model:                           10\n",
      "Date:                Wed, 23 Dec 2020   Pseudo R-squ.:                 0.07711\n",
      "Time:                        19:58:03   Log-Likelihood:                -181.77\n",
      "converged:                       True   LL-Null:                       -196.96\n",
      "Covariance Type:            nonrobust   LLR p-value:                 0.0007436\n",
      "===================================================================================\n",
      "                      coef    std err          z      P>|z|      [0.025      0.975]\n",
      "-----------------------------------------------------------------------------------\n",
      "Age                -0.0645      0.016     -4.057      0.000      -0.096      -0.033\n",
      "Female             -0.4759      0.341     -1.396      0.163      -1.144       0.192\n",
      "Work Experience    -0.4994      0.282     -1.774      0.076      -1.051       0.052\n",
      "English            -0.3785      0.262     -1.445      0.148      -0.892       0.135\n",
      "PG Degree           0.5135      0.390      1.316      0.188      -0.252       1.279\n",
      "Agrade             -1.1742      0.489     -2.402      0.016      -2.132      -0.216\n",
      "BelowBGrade         0.5557      0.378      1.470      0.141      -0.185       1.296\n",
      "Year2004            0.4028      0.461      0.873      0.383      -0.502       1.307\n",
      "Year2005           -0.4790      0.548     -0.874      0.382      -1.553       0.595\n",
      "Year2006            1.0344      0.437      2.368      0.018       0.178       1.890\n",
      "Year2007            0.5281      0.447      1.181      0.238      -0.348       1.404\n",
      "===================================================================================\n"
     ]
    }
   ],
   "source": [
    "x_list = [\"Age\", \"Female\", \"Work Experience\", \"English\", \n",
    "          \"PG Degree\", \"Agrade\", \"BelowBGrade\", \"Year2004\", \n",
    "          \"Year2005\", \"Year2006\", \"Year2007\"]\n",
    "y = msc_fail[\"Fail\"]\n",
    "x = msc_fail[x_list]\n",
    "\n",
    "from sklearn.model_selection import train_test_split\n",
    "from sklearn.linear_model import LogisticRegression\n",
    "\n",
    "x1_train, x1_test, y1_train, y1_test = train_test_split(x, y, random_state=0)\n",
    "\n",
    "logreg = LogisticRegression().fit(x1_train,y1_train)\n",
    "print(logreg.coef_)\n",
    "\n",
    "print(\"Training set score: {:.3f}\".format(logreg.score(x1_train,y1_train)))\n",
    "print(\"Test set score: {:.3f}\".format(logreg.score(x1_test,y1_test)))\n",
    "\n",
    "import statsmodels.api as sm\n",
    "\n",
    "logit_model = sm.Logit(y,x)\n",
    "result = logit_model.fit()\n",
    "print(result.summary())"
   ]
  },
  {
   "source": [
    "adding a constant to the logit model"
   ],
   "cell_type": "markdown",
   "metadata": {}
  },
  {
   "cell_type": "code",
   "execution_count": 3,
   "metadata": {},
   "outputs": [
    {
     "output_type": "stream",
     "name": "stdout",
     "text": [
      "Optimization terminated successfully.\n         Current function value: 0.359433\n         Iterations 7\n                           Logit Regression Results                           \n==============================================================================\nDep. Variable:                   Fail   No. Observations:                  500\nModel:                          Logit   Df Residuals:                      488\nMethod:                           MLE   Df Model:                           11\nDate:                Wed, 23 Dec 2020   Pseudo R-squ.:                 0.08755\nTime:                        19:58:03   Log-Likelihood:                -179.72\nconverged:                       True   LL-Null:                       -196.96\nCovariance Type:            nonrobust   LLR p-value:                 0.0003010\n===================================================================================\n                      coef    std err          z      P>|z|      [0.025      0.975]\n-----------------------------------------------------------------------------------\nconst              -2.2564      1.073     -2.103      0.035      -4.359      -0.153\nAge                 0.0110      0.038      0.289      0.773      -0.064       0.086\nFemale             -0.3339      0.349     -0.956      0.339      -1.018       0.351\nWork Experience    -0.5688      0.288     -1.972      0.049      -1.134      -0.003\nEnglish            -0.1651      0.283     -0.584      0.560      -0.720       0.389\nPG Degree           0.2121      0.420      0.505      0.614      -0.611       1.035\nAgrade             -1.0850      0.491     -2.209      0.027      -2.048      -0.122\nBelowBGrade         0.5624      0.374      1.506      0.132      -0.170       1.294\nYear2004            0.6532      0.501      1.304      0.192      -0.329       1.635\nYear2005           -0.1838      0.588     -0.313      0.755      -1.336       0.969\nYear2006            1.2466      0.474      2.632      0.008       0.318       2.175\nYear2007            0.8504      0.497      1.711      0.087      -0.124       1.825\n===================================================================================\n"
     ]
    }
   ],
   "source": [
    "from statsmodels.discrete.discrete_model import Logit, Probit\n",
    "from statsmodels.tools import add_constant\n",
    "\n",
    "x = add_constant(x)\n",
    "print(Logit(y, x).fit().summary())"
   ]
  },
  {
   "source": [
    "building the probit model"
   ],
   "cell_type": "markdown",
   "metadata": {}
  },
  {
   "cell_type": "code",
   "execution_count": 4,
   "metadata": {},
   "outputs": [
    {
     "output_type": "stream",
     "name": "stdout",
     "text": [
      "Optimization terminated successfully.\n         Current function value: 0.358913\n         Iterations 6\n                          Probit Regression Results                           \n==============================================================================\nDep. Variable:                   Fail   No. Observations:                  500\nModel:                         Probit   Df Residuals:                      488\nMethod:                           MLE   Df Model:                           11\nDate:                Wed, 23 Dec 2020   Pseudo R-squ.:                 0.08887\nTime:                        19:58:03   Log-Likelihood:                -179.46\nconverged:                       True   LL-Null:                       -196.96\nCovariance Type:            nonrobust   LLR p-value:                 0.0002471\n===================================================================================\n                      coef    std err          z      P>|z|      [0.025      0.975]\n-----------------------------------------------------------------------------------\nconst              -1.2872      0.569     -2.261      0.024      -2.403      -0.172\nAge                 0.0057      0.020      0.282      0.778      -0.034       0.045\nFemale             -0.1941      0.184     -1.052      0.293      -0.556       0.167\nWork Experience    -0.3182      0.157     -2.031      0.042      -0.625      -0.011\nEnglish            -0.0938      0.154     -0.610      0.542      -0.395       0.207\nPG Degree           0.1330      0.230      0.577      0.564      -0.318       0.584\nAgrade             -0.5388      0.235     -2.290      0.022      -1.000      -0.078\nBelowBGrade         0.3418      0.214      1.595      0.111      -0.078       0.762\nYear2004            0.3497      0.258      1.355      0.175      -0.156       0.855\nYear2005           -0.1083      0.293     -0.370      0.711      -0.682       0.466\nYear2006            0.6736      0.246      2.735      0.006       0.191       1.156\nYear2007            0.4338      0.259      1.673      0.094      -0.074       0.942\n===================================================================================\n"
     ]
    }
   ],
   "source": [
    "print(Probit(y, x).fit().summary())"
   ]
  },
  {
   "source": [
    "# Question 2"
   ],
   "cell_type": "markdown",
   "metadata": {}
  },
  {
   "source": [
    "msc_fail.groupby('Country Code').mean()"
   ],
   "cell_type": "code",
   "metadata": {},
   "execution_count": 5,
   "outputs": [
    {
     "output_type": "execute_result",
     "data": {
      "text/plain": [
       "                    Age    Female      Fail  Work Experience   English  \\\n",
       "Country Code                                                             \n",
       "1             24.629630  0.296296  0.111111         0.518519  1.000000   \n",
       "2             26.220000  0.430000  0.150000         0.520000  0.050000   \n",
       "3             23.687500  0.250000  0.000000         0.468750  0.000000   \n",
       "4             23.075000  0.350000  0.075000         0.625000  1.000000   \n",
       "5             35.111111  0.111111  0.111111         0.777778  0.000000   \n",
       "6             30.333333  0.250000  0.250000         1.000000  1.000000   \n",
       "7             26.911765  0.352941  0.294118         0.558824  0.000000   \n",
       "8             24.000000  0.256250  0.137500         0.468750  1.000000   \n",
       "9             25.652174  0.217391  0.130435         0.782609  0.260870   \n",
       "10            28.111111  0.238095  0.111111         0.809524  0.396825   \n",
       "\n",
       "              PG Degree    Agrade  BelowBGrade  Year2004  Year2005  Year2006  \\\n",
       "Country Code                                                                   \n",
       "1              0.185185  0.333333     0.222222  0.111111  0.185185  0.407407   \n",
       "2              0.180000  0.060000     0.110000  0.220000  0.280000  0.130000   \n",
       "3              0.000000  0.281250     0.062500  0.281250  0.218750  0.156250   \n",
       "4              0.225000  0.225000     0.075000  0.200000  0.175000  0.225000   \n",
       "5              0.333333  0.000000     0.111111  0.222222  0.444444  0.222222   \n",
       "6              0.166667  0.000000     0.083333  0.333333  0.333333  0.250000   \n",
       "7              0.058824  0.411765     0.176471  0.088235  0.000000  0.323529   \n",
       "8              0.068750  0.168750     0.087500  0.206250  0.168750  0.193750   \n",
       "9              0.130435  0.347826     0.086957  0.260870  0.260870  0.173913   \n",
       "10             0.285714  0.333333     0.126984  0.158730  0.190476  0.174603   \n",
       "\n",
       "              Year2007  \n",
       "Country Code            \n",
       "1             0.148148  \n",
       "2             0.180000  \n",
       "3             0.187500  \n",
       "4             0.300000  \n",
       "5             0.000000  \n",
       "6             0.083333  \n",
       "7             0.352941  \n",
       "8             0.150000  \n",
       "9             0.173913  \n",
       "10            0.301587  "
      ],
      "text/html": "<div>\n<style scoped>\n    .dataframe tbody tr th:only-of-type {\n        vertical-align: middle;\n    }\n\n    .dataframe tbody tr th {\n        vertical-align: top;\n    }\n\n    .dataframe thead th {\n        text-align: right;\n    }\n</style>\n<table border=\"1\" class=\"dataframe\">\n  <thead>\n    <tr style=\"text-align: right;\">\n      <th></th>\n      <th>Age</th>\n      <th>Female</th>\n      <th>Fail</th>\n      <th>Work Experience</th>\n      <th>English</th>\n      <th>PG Degree</th>\n      <th>Agrade</th>\n      <th>BelowBGrade</th>\n      <th>Year2004</th>\n      <th>Year2005</th>\n      <th>Year2006</th>\n      <th>Year2007</th>\n    </tr>\n    <tr>\n      <th>Country Code</th>\n      <th></th>\n      <th></th>\n      <th></th>\n      <th></th>\n      <th></th>\n      <th></th>\n      <th></th>\n      <th></th>\n      <th></th>\n      <th></th>\n      <th></th>\n      <th></th>\n    </tr>\n  </thead>\n  <tbody>\n    <tr>\n      <th>1</th>\n      <td>24.629630</td>\n      <td>0.296296</td>\n      <td>0.111111</td>\n      <td>0.518519</td>\n      <td>1.000000</td>\n      <td>0.185185</td>\n      <td>0.333333</td>\n      <td>0.222222</td>\n      <td>0.111111</td>\n      <td>0.185185</td>\n      <td>0.407407</td>\n      <td>0.148148</td>\n    </tr>\n    <tr>\n      <th>2</th>\n      <td>26.220000</td>\n      <td>0.430000</td>\n      <td>0.150000</td>\n      <td>0.520000</td>\n      <td>0.050000</td>\n      <td>0.180000</td>\n      <td>0.060000</td>\n      <td>0.110000</td>\n      <td>0.220000</td>\n      <td>0.280000</td>\n      <td>0.130000</td>\n      <td>0.180000</td>\n    </tr>\n    <tr>\n      <th>3</th>\n      <td>23.687500</td>\n      <td>0.250000</td>\n      <td>0.000000</td>\n      <td>0.468750</td>\n      <td>0.000000</td>\n      <td>0.000000</td>\n      <td>0.281250</td>\n      <td>0.062500</td>\n      <td>0.281250</td>\n      <td>0.218750</td>\n      <td>0.156250</td>\n      <td>0.187500</td>\n    </tr>\n    <tr>\n      <th>4</th>\n      <td>23.075000</td>\n      <td>0.350000</td>\n      <td>0.075000</td>\n      <td>0.625000</td>\n      <td>1.000000</td>\n      <td>0.225000</td>\n      <td>0.225000</td>\n      <td>0.075000</td>\n      <td>0.200000</td>\n      <td>0.175000</td>\n      <td>0.225000</td>\n      <td>0.300000</td>\n    </tr>\n    <tr>\n      <th>5</th>\n      <td>35.111111</td>\n      <td>0.111111</td>\n      <td>0.111111</td>\n      <td>0.777778</td>\n      <td>0.000000</td>\n      <td>0.333333</td>\n      <td>0.000000</td>\n      <td>0.111111</td>\n      <td>0.222222</td>\n      <td>0.444444</td>\n      <td>0.222222</td>\n      <td>0.000000</td>\n    </tr>\n    <tr>\n      <th>6</th>\n      <td>30.333333</td>\n      <td>0.250000</td>\n      <td>0.250000</td>\n      <td>1.000000</td>\n      <td>1.000000</td>\n      <td>0.166667</td>\n      <td>0.000000</td>\n      <td>0.083333</td>\n      <td>0.333333</td>\n      <td>0.333333</td>\n      <td>0.250000</td>\n      <td>0.083333</td>\n    </tr>\n    <tr>\n      <th>7</th>\n      <td>26.911765</td>\n      <td>0.352941</td>\n      <td>0.294118</td>\n      <td>0.558824</td>\n      <td>0.000000</td>\n      <td>0.058824</td>\n      <td>0.411765</td>\n      <td>0.176471</td>\n      <td>0.088235</td>\n      <td>0.000000</td>\n      <td>0.323529</td>\n      <td>0.352941</td>\n    </tr>\n    <tr>\n      <th>8</th>\n      <td>24.000000</td>\n      <td>0.256250</td>\n      <td>0.137500</td>\n      <td>0.468750</td>\n      <td>1.000000</td>\n      <td>0.068750</td>\n      <td>0.168750</td>\n      <td>0.087500</td>\n      <td>0.206250</td>\n      <td>0.168750</td>\n      <td>0.193750</td>\n      <td>0.150000</td>\n    </tr>\n    <tr>\n      <th>9</th>\n      <td>25.652174</td>\n      <td>0.217391</td>\n      <td>0.130435</td>\n      <td>0.782609</td>\n      <td>0.260870</td>\n      <td>0.130435</td>\n      <td>0.347826</td>\n      <td>0.086957</td>\n      <td>0.260870</td>\n      <td>0.260870</td>\n      <td>0.173913</td>\n      <td>0.173913</td>\n    </tr>\n    <tr>\n      <th>10</th>\n      <td>28.111111</td>\n      <td>0.238095</td>\n      <td>0.111111</td>\n      <td>0.809524</td>\n      <td>0.396825</td>\n      <td>0.285714</td>\n      <td>0.333333</td>\n      <td>0.126984</td>\n      <td>0.158730</td>\n      <td>0.190476</td>\n      <td>0.174603</td>\n      <td>0.301587</td>\n    </tr>\n  </tbody>\n</table>\n</div>"
     },
     "metadata": {},
     "execution_count": 5
    }
   ]
  },
  {
   "source": [
    "Then we run a country regression"
   ],
   "cell_type": "markdown",
   "metadata": {}
  },
  {
   "cell_type": "code",
   "execution_count": 6,
   "metadata": {},
   "outputs": [
    {
     "output_type": "stream",
     "name": "stdout",
     "text": [
      "   Age  Female  Fail  Work Experience  English  Country Code  PG Degree  \\\n0   22       1     0                0        0            10          0   \n1   24       0     1                0        1             8          0   \n2   28       0     0                0        1            10          0   \n3   23       0     0                0        1             8          0   \n4   23       0     0                1        1             8          0   \n\n   Agrade  BelowBGrade  Year2004  ...  Year2007  Country1  Country2  Country3  \\\n0       0            0         0  ...         0         0         0         0   \n1       0            0         0  ...         0         0         0         0   \n2       0            0         0  ...         0         0         0         0   \n3       0            0         0  ...         0         0         0         0   \n4       0            0         0  ...         0         0         0         0   \n\n   Country4  Country5  Country6  Country7  Country9  Country10  \n0         0         0         0         0         0          1  \n1         0         0         0         0         0          0  \n2         0         0         0         0         0          1  \n3         0         0         0         0         0          0  \n4         0         0         0         0         0          0  \n\n[5 rows x 22 columns]\n"
     ]
    }
   ],
   "source": [
    "msc_country = pd.read_csv(\"MSc_Country.csv\") \n",
    "\n",
    "print(msc_country.head())\n",
    "\n",
    "x2_list = [\"Age\", \"Female\", \"Work Experience\", \"English\", \n",
    "           \"PG Degree\", \"Agrade\", \"BelowBGrade\", \"Year2004\", \n",
    "           \"Year2005\", \"Year2006\", \"Year2007\", \"Country1\",\n",
    "           \"Country2\", \"Country3\", \"Country4\", \"Country5\",\n",
    "           \"Country6\", \"Country7\", \"Country9\", \"Country10\"]\n",
    "y2 = msc_fail[\"Fail\"]\n",
    "x2 = msc_country[x2_list]"
   ]
  },
  {
   "cell_type": "code",
   "execution_count": 7,
   "metadata": {},
   "outputs": [
    {
     "output_type": "stream",
     "name": "stdout",
     "text": [
      "Warning: Maximum number of iterations has been exceeded.\n",
      "         Current function value: 0.341316\n",
      "         Iterations: 35\n",
      "                           Logit Regression Results                           \n",
      "==============================================================================\n",
      "Dep. Variable:                   Fail   No. Observations:                  500\n",
      "Model:                          Logit   Df Residuals:                      479\n",
      "Method:                           MLE   Df Model:                           20\n",
      "Date:                Wed, 23 Dec 2020   Pseudo R-squ.:                  0.1335\n",
      "Time:                        19:58:03   Log-Likelihood:                -170.66\n",
      "converged:                      False   LL-Null:                       -196.96\n",
      "Covariance Type:            nonrobust   LLR p-value:                 9.290e-05\n",
      "===================================================================================\n",
      "                      coef    std err          z      P>|z|      [0.025      0.975]\n",
      "-----------------------------------------------------------------------------------\n",
      "const              -1.2172      1.379     -0.883      0.377      -3.920       1.485\n",
      "Age                -0.0251      0.047     -0.537      0.591      -0.117       0.067\n",
      "Female             -0.4051      0.362     -1.120      0.263      -1.114       0.304\n",
      "Work Experience    -0.6253      0.307     -2.036      0.042      -1.227      -0.023\n",
      "English            -0.1946      0.654     -0.297      0.766      -1.477       1.088\n",
      "PG Degree           0.4247      0.439      0.967      0.334      -0.436       1.286\n",
      "Agrade             -1.1818      0.517     -2.284      0.022      -2.196      -0.168\n",
      "BelowBGrade         0.5095      0.391      1.303      0.192      -0.257       1.276\n",
      "Year2004            0.6823      0.511      1.335      0.182      -0.320       1.684\n",
      "Year2005           -0.1508      0.603     -0.250      0.803      -1.333       1.032\n",
      "Year2006            1.2243      0.485      2.525      0.012       0.274       2.175\n",
      "Year2007            0.8221      0.511      1.609      0.108      -0.179       1.823\n",
      "Country1           -0.3789      0.690     -0.549      0.583      -1.732       0.974\n",
      "Country2           -0.0653      0.729     -0.089      0.929      -1.495       1.364\n",
      "Country3          -21.6158   2.01e+04     -0.001      0.999   -3.94e+04    3.93e+04\n",
      "Country4           -0.7385      0.669     -1.104      0.270      -2.050       0.573\n",
      "Country5           -0.1584      1.361     -0.116      0.907      -2.826       2.509\n",
      "Country6            1.0257      0.817      1.256      0.209      -0.575       2.627\n",
      "Country7            0.9116      0.829      1.100      0.271      -0.713       2.536\n",
      "Country9            0.2631      0.861      0.305      0.760      -1.425       1.951\n",
      "Country10          -0.1930      0.660     -0.292      0.770      -1.487       1.101\n",
      "===================================================================================\n",
      "/home/free/Documents/econometric/env/lib/python3.8/site-packages/statsmodels/base/model.py:566: ConvergenceWarning: Maximum Likelihood optimization failed to converge. Check mle_retvals\n",
      "  warnings.warn(\"Maximum Likelihood optimization failed to \"\n"
     ]
    }
   ],
   "source": [
    "x2 = add_constant(x2)\n",
    "print(Logit(y2, x2).fit().summary())"
   ]
  },
  {
   "source": [
    "change to a robust version"
   ],
   "cell_type": "markdown",
   "metadata": {}
  },
  {
   "cell_type": "code",
   "execution_count": 8,
   "metadata": {},
   "outputs": [
    {
     "output_type": "stream",
     "name": "stdout",
     "text": [
      "Warning: Maximum number of iterations has been exceeded.\n",
      "         Current function value: 0.341316\n",
      "         Iterations: 35\n",
      "                           Logit Regression Results                           \n",
      "==============================================================================\n",
      "Dep. Variable:                   Fail   No. Observations:                  500\n",
      "Model:                          Logit   Df Residuals:                      479\n",
      "Method:                           MLE   Df Model:                           20\n",
      "Date:                Wed, 23 Dec 2020   Pseudo R-squ.:                  0.1335\n",
      "Time:                        19:58:03   Log-Likelihood:                -170.66\n",
      "converged:                      False   LL-Null:                       -196.96\n",
      "Covariance Type:                  hc0   LLR p-value:                 9.290e-05\n",
      "===================================================================================\n",
      "                      coef    std err          z      P>|z|      [0.025      0.975]\n",
      "-----------------------------------------------------------------------------------\n",
      "const              -1.2172      1.875     -0.649      0.516      -4.892       2.458\n",
      "Age                -0.0251      0.065     -0.384      0.701      -0.153       0.103\n",
      "Female             -0.4051      0.380     -1.067      0.286      -1.149       0.339\n",
      "Work Experience    -0.6253      0.300     -2.082      0.037      -1.214      -0.037\n",
      "English            -0.1946      0.641     -0.304      0.761      -1.451       1.062\n",
      "PG Degree           0.4247      0.448      0.949      0.343      -0.453       1.302\n",
      "Agrade             -1.1818      0.502     -2.353      0.019      -2.166      -0.197\n",
      "BelowBGrade         0.5095      0.391      1.303      0.193      -0.257       1.276\n",
      "Year2004            0.6823      0.500      1.365      0.172      -0.298       1.662\n",
      "Year2005           -0.1508      0.531     -0.284      0.776      -1.191       0.889\n",
      "Year2006            1.2243      0.471      2.597      0.009       0.300       2.148\n",
      "Year2007            0.8221      0.493      1.666      0.096      -0.145       1.789\n",
      "Country1           -0.3789      0.675     -0.562      0.574      -1.701       0.943\n",
      "Country2           -0.0653      0.669     -0.098      0.922      -1.376       1.246\n",
      "Country3          -21.6158      0.719    -30.063      0.000     -23.025     -20.207\n",
      "Country4           -0.7385      0.662     -1.115      0.265      -2.036       0.559\n",
      "Country5           -0.1584      1.392     -0.114      0.909      -2.886       2.569\n",
      "Country6            1.0257      0.872      1.177      0.239      -0.683       2.734\n",
      "Country7            0.9116      0.780      1.168      0.243      -0.618       2.441\n",
      "Country9            0.2631      0.858      0.306      0.759      -1.419       1.946\n",
      "Country10          -0.1930      0.628     -0.307      0.759      -1.424       1.038\n",
      "===================================================================================\n",
      "/home/free/Documents/econometric/env/lib/python3.8/site-packages/statsmodels/base/model.py:566: ConvergenceWarning: Maximum Likelihood optimization failed to converge. Check mle_retvals\n",
      "  warnings.warn(\"Maximum Likelihood optimization failed to \"\n"
     ]
    }
   ],
   "source": [
    "print(Logit(y2, x2).fit(cov_type=\"hc0\").summary())"
   ]
  },
  {
   "cell_type": "code",
   "execution_count": 9,
   "metadata": {},
   "outputs": [
    {
     "output_type": "stream",
     "name": "stdout",
     "text": [
      "Warning: Maximum number of iterations has been exceeded.\n",
      "         Current function value: 0.340267\n",
      "         Iterations: 35\n",
      "                          Probit Regression Results                           \n",
      "==============================================================================\n",
      "Dep. Variable:                   Fail   No. Observations:                  500\n",
      "Model:                         Probit   Df Residuals:                      479\n",
      "Method:                           MLE   Df Model:                           20\n",
      "Date:                Wed, 23 Dec 2020   Pseudo R-squ.:                  0.1362\n",
      "Time:                        19:58:03   Log-Likelihood:                -170.13\n",
      "converged:                      False   LL-Null:                       -196.96\n",
      "Covariance Type:            nonrobust   LLR p-value:                 6.511e-05\n",
      "===================================================================================\n",
      "                      coef    std err          z      P>|z|      [0.025      0.975]\n",
      "-----------------------------------------------------------------------------------\n",
      "const              -0.7879      0.686     -1.149      0.251      -2.132       0.556\n",
      "Age                -0.0122      0.023     -0.527      0.598      -0.058       0.033\n",
      "Female             -0.2349      0.193     -1.220      0.222      -0.612       0.142\n",
      "Work Experience    -0.3457      0.168     -2.055      0.040      -0.675      -0.016\n",
      "English            -0.0910      0.354     -0.257      0.797      -0.785       0.603\n",
      "PG Degree           0.2373      0.243      0.978      0.328      -0.238       0.713\n",
      "Agrade             -0.6288      0.260     -2.415      0.016      -1.139      -0.118\n",
      "BelowBGrade         0.3091      0.226      1.368      0.171      -0.134       0.752\n",
      "Year2004            0.3805      0.266      1.430      0.153      -0.141       0.902\n",
      "Year2005           -0.1080      0.312     -0.346      0.730      -0.720       0.504\n",
      "Year2006            0.6799      0.257      2.648      0.008       0.177       1.183\n",
      "Year2007            0.4328      0.270      1.601      0.109      -0.097       0.963\n",
      "Country1           -0.2275      0.376     -0.605      0.545      -0.965       0.510\n",
      "Country2           -0.0181      0.401     -0.045      0.964      -0.804       0.768\n",
      "Country3           -6.2731   2.14e+04     -0.000      1.000   -4.19e+04    4.19e+04\n",
      "Country4           -0.4046      0.347     -1.167      0.243      -1.084       0.275\n",
      "Country5           -0.0930      0.727     -0.128      0.898      -1.517       1.331\n",
      "Country6            0.5896      0.459      1.285      0.199      -0.310       1.489\n",
      "Country7            0.5483      0.463      1.185      0.236      -0.359       1.455\n",
      "Country9            0.1380      0.464      0.297      0.766      -0.772       1.048\n",
      "Country10          -0.0949      0.356     -0.267      0.790      -0.793       0.603\n",
      "===================================================================================\n",
      "/home/free/Documents/econometric/env/lib/python3.8/site-packages/statsmodels/base/model.py:566: ConvergenceWarning: Maximum Likelihood optimization failed to converge. Check mle_retvals\n",
      "  warnings.warn(\"Maximum Likelihood optimization failed to \"\n"
     ]
    }
   ],
   "source": [
    "print(Probit(y2, x2).fit().summary())"
   ]
  },
  {
   "source": [
    "# Question 3"
   ],
   "cell_type": "markdown",
   "metadata": {}
  },
  {
   "cell_type": "code",
   "execution_count": 10,
   "metadata": {},
   "outputs": [
    {
     "output_type": "stream",
     "name": "stdout",
     "text": [
      "   Age  Female  Fail  Work Experience  English  Country Code  PG Degree  \\\n0   22       1     0                0        0            10          0   \n1   24       0     1                0        1             8          0   \n2   28       0     0                0        1            10          0   \n3   23       0     0                0        1             8          0   \n4   23       0     0                1        1             8          0   \n\n   Agrade  BelowBGrade  Year2004  ...  Country1  Country2  Country3  Country4  \\\n0       0            0         0  ...         0         0         0         0   \n1       0            0         0  ...         0         0         0         0   \n2       0            0         0  ...         0         0         0         0   \n3       0            0         0  ...         0         0         0         0   \n4       0            0         0  ...         0         0         0         0   \n\n   Country5  Country6  Country7  Country9  Country10    LogAge  \n0         0         0         0         0          1  3.091042  \n1         0         0         0         0          0  3.178054  \n2         0         0         0         0          1  3.332205  \n3         0         0         0         0          0  3.135494  \n4         0         0         0         0          0  3.135494  \n\n[5 rows x 23 columns]\n"
     ]
    }
   ],
   "source": [
    "msc_age = pd.read_csv(\"MSc_LogAge.csv\") \n",
    "\n",
    "print(msc_age.head())\n",
    "\n",
    "x3_list = [\"Female\", \"Work Experience\", \"English\", \n",
    "           \"PG Degree\", \"Agrade\", \"BelowBGrade\", \"Year2004\", \n",
    "           \"Year2005\", \"Year2006\", \"Year2007\", \"Country1\",\n",
    "           \"Country2\", \"Country3\", \"Country4\", \"Country5\",\n",
    "           \"Country6\", \"Country7\", \"Country9\", \"Country10\", \"LogAge\"]\n",
    "y3 = msc_age[\"Fail\"]\n",
    "x3 = msc_age[x3_list]"
   ]
  },
  {
   "cell_type": "code",
   "execution_count": 11,
   "metadata": {},
   "outputs": [
    {
     "output_type": "stream",
     "name": "stdout",
     "text": [
      "Warning: Maximum number of iterations has been exceeded.\n",
      "         Current function value: 0.340962\n",
      "         Iterations: 35\n",
      "                           Logit Regression Results                           \n",
      "==============================================================================\n",
      "Dep. Variable:                   Fail   No. Observations:                  500\n",
      "Model:                          Logit   Df Residuals:                      480\n",
      "Method:                           MLE   Df Model:                           19\n",
      "Date:                Wed, 23 Dec 2020   Pseudo R-squ.:                  0.1344\n",
      "Time:                        19:58:04   Log-Likelihood:                -170.48\n",
      "converged:                      False   LL-Null:                       -196.96\n",
      "Covariance Type:            nonrobust   LLR p-value:                 4.750e-05\n",
      "===================================================================================\n",
      "                      coef    std err          z      P>|z|      [0.025      0.975]\n",
      "-----------------------------------------------------------------------------------\n",
      "Female             -0.3982      0.360     -1.107      0.268      -1.103       0.307\n",
      "Work Experience    -0.6263      0.304     -2.058      0.040      -1.223      -0.030\n",
      "English            -0.1474      0.639     -0.231      0.818      -1.400       1.106\n",
      "PG Degree           0.4104      0.399      1.027      0.304      -0.373       1.193\n",
      "Agrade             -1.1748      0.517     -2.274      0.023      -2.188      -0.162\n",
      "BelowBGrade         0.5100      0.390      1.306      0.191      -0.255       1.275\n",
      "Year2004            0.7033      0.510      1.379      0.168      -0.296       1.703\n",
      "Year2005           -0.1309      0.598     -0.219      0.827      -1.304       1.042\n",
      "Year2006            1.2403      0.486      2.551      0.011       0.287       2.193\n",
      "Year2007            0.8410      0.507      1.658      0.097      -0.153       1.835\n",
      "Country1           -0.3723      0.689     -0.540      0.589      -1.723       0.978\n",
      "Country2           -0.0172      0.724     -0.024      0.981      -1.435       1.401\n",
      "Country3          -21.5786   2.03e+04     -0.001      0.999   -3.97e+04    3.97e+04\n",
      "Country4           -0.7336      0.665     -1.102      0.270      -2.038       0.571\n",
      "Country5           -0.1535      1.325     -0.116      0.908      -2.750       2.443\n",
      "Country6            0.9999      0.767      1.303      0.193      -0.504       2.504\n",
      "Country7            0.9592      0.826      1.161      0.246      -0.660       2.579\n",
      "Country9            0.2992      0.858      0.349      0.727      -1.382       1.980\n",
      "Country10          -0.1695      0.654     -0.259      0.795      -1.451       1.112\n",
      "LogAge             -0.5957      0.247     -2.416      0.016      -1.079      -0.112\n",
      "===================================================================================\n",
      "/home/free/Documents/econometric/env/lib/python3.8/site-packages/statsmodels/base/model.py:566: ConvergenceWarning: Maximum Likelihood optimization failed to converge. Check mle_retvals\n",
      "  warnings.warn(\"Maximum Likelihood optimization failed to \"\n"
     ]
    }
   ],
   "source": [
    "# x3 = add_constant(x3)\n",
    "print(Logit(y3, x3).fit().summary())"
   ]
  },
  {
   "cell_type": "code",
   "execution_count": 12,
   "metadata": {},
   "outputs": [
    {
     "output_type": "stream",
     "name": "stdout",
     "text": [
      "            feature        VIF\n0            Female   1.698654\n1   Work Experience   2.643114\n2           English  11.270405\n3         PG Degree   1.333790\n4            Agrade   1.458979\n5       BelowBGrade   1.260372\n6          Year2004   2.075481\n7          Year2005   2.135664\n8          Year2006   2.122703\n9          Year2007   2.268631\n10         Country1   1.217575\n11         Country2   5.512083\n12         Country3   2.518821\n13         Country4   1.313428\n14         Country5   1.538071\n15         Country6   1.128368\n16         Country7   2.786236\n17         Country9   1.705639\n18        Country10   2.551307\n19           LogAge  30.217941\n"
     ]
    }
   ],
   "source": [
    "from statsmodels.stats.outliers_influence import variance_inflation_factor \n",
    "  \n",
    "# VIF dataframe \n",
    "vif_data = pd.DataFrame() \n",
    "vif_data[\"feature\"] = x3.columns \n",
    "  \n",
    "# calculating VIF for each feature \n",
    "vif_data[\"VIF\"] = [variance_inflation_factor(x3.values, i) \n",
    "                          for i in range(len(x3.columns))] \n",
    "  \n",
    "print(vif_data)"
   ]
  },
  {
   "source": [
    "remove high vif or high p-value"
   ],
   "cell_type": "markdown",
   "metadata": {}
  },
  {
   "cell_type": "code",
   "execution_count": 13,
   "metadata": {},
   "outputs": [
    {
     "output_type": "stream",
     "name": "stdout",
     "text": [
      "Optimization terminated successfully.\n         Current function value: 0.410316\n         Iterations 7\n                           Logit Regression Results                           \n==============================================================================\nDep. Variable:                   Fail   No. Observations:                  500\nModel:                          Logit   Df Residuals:                      496\nMethod:                           MLE   Df Model:                            3\nDate:                Wed, 23 Dec 2020   Pseudo R-squ.:                -0.04162\nTime:                        19:58:04   Log-Likelihood:                -205.16\nconverged:                       True   LL-Null:                       -196.96\nCovariance Type:            nonrobust   LLR p-value:                     1.000\n===================================================================================\n                      coef    std err          z      P>|z|      [0.025      0.975]\n-----------------------------------------------------------------------------------\nFemale             -1.1665      0.293     -3.984      0.000      -1.740      -0.593\nWork Experience    -1.4694      0.198     -7.410      0.000      -1.858      -1.081\nAgrade             -1.9853      0.473     -4.201      0.000      -2.912      -1.059\nYear2005           -1.4199      0.445     -3.187      0.001      -2.293      -0.547\n===================================================================================\n"
     ]
    }
   ],
   "source": [
    "x3_list = [\"Female\", \"Work Experience\", \n",
    "           \"Agrade\",\n",
    "           \"Year2005\"]\n",
    "y3 = msc_age[\"Fail\"]\n",
    "x3 = msc_age[x3_list]\n",
    "print(Logit(y3, x3).fit().summary())"
   ]
  }
 ]
}