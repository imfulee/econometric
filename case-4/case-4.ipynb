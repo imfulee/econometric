{
 "metadata": {
  "language_info": {
   "codemirror_mode": {
    "name": "ipython",
    "version": 3
   },
   "file_extension": ".py",
   "mimetype": "text/x-python",
   "name": "python",
   "nbconvert_exporter": "python",
   "pygments_lexer": "ipython3",
   "version": "3.8.6-final"
  },
  "orig_nbformat": 2,
  "kernelspec": {
   "name": "python3",
   "display_name": "Python 3"
  }
 },
 "nbformat": 4,
 "nbformat_minor": 2,
 "cells": [
  {
   "cell_type": "code",
   "execution_count": 18,
   "metadata": {},
   "outputs": [
    {
     "output_type": "execute_result",
     "data": {
      "text/plain": [
       "   Age  Female  Fail  Work Experience  English  Country Code  PG Degree  \\\n",
       "0   22       1     0                0        0            10          0   \n",
       "1   24       0     1                0        1             8          0   \n",
       "2   28       0     0                0        1            10          0   \n",
       "3   23       0     0                0        1             8          0   \n",
       "4   23       0     0                1        1             8          0   \n",
       "\n",
       "   Agrade  BelowBGrade  Year2004  Year2005  Year2006  Year2007  \n",
       "0       0            0         0         0         0         0  \n",
       "1       0            0         0         0         0         0  \n",
       "2       0            0         0         0         0         0  \n",
       "3       0            0         0         0         0         0  \n",
       "4       0            0         0         0         0         0  "
      ],
      "text/html": "<div>\n<style scoped>\n    .dataframe tbody tr th:only-of-type {\n        vertical-align: middle;\n    }\n\n    .dataframe tbody tr th {\n        vertical-align: top;\n    }\n\n    .dataframe thead th {\n        text-align: right;\n    }\n</style>\n<table border=\"1\" class=\"dataframe\">\n  <thead>\n    <tr style=\"text-align: right;\">\n      <th></th>\n      <th>Age</th>\n      <th>Female</th>\n      <th>Fail</th>\n      <th>Work Experience</th>\n      <th>English</th>\n      <th>Country Code</th>\n      <th>PG Degree</th>\n      <th>Agrade</th>\n      <th>BelowBGrade</th>\n      <th>Year2004</th>\n      <th>Year2005</th>\n      <th>Year2006</th>\n      <th>Year2007</th>\n    </tr>\n  </thead>\n  <tbody>\n    <tr>\n      <th>0</th>\n      <td>22</td>\n      <td>1</td>\n      <td>0</td>\n      <td>0</td>\n      <td>0</td>\n      <td>10</td>\n      <td>0</td>\n      <td>0</td>\n      <td>0</td>\n      <td>0</td>\n      <td>0</td>\n      <td>0</td>\n      <td>0</td>\n    </tr>\n    <tr>\n      <th>1</th>\n      <td>24</td>\n      <td>0</td>\n      <td>1</td>\n      <td>0</td>\n      <td>1</td>\n      <td>8</td>\n      <td>0</td>\n      <td>0</td>\n      <td>0</td>\n      <td>0</td>\n      <td>0</td>\n      <td>0</td>\n      <td>0</td>\n    </tr>\n    <tr>\n      <th>2</th>\n      <td>28</td>\n      <td>0</td>\n      <td>0</td>\n      <td>0</td>\n      <td>1</td>\n      <td>10</td>\n      <td>0</td>\n      <td>0</td>\n      <td>0</td>\n      <td>0</td>\n      <td>0</td>\n      <td>0</td>\n      <td>0</td>\n    </tr>\n    <tr>\n      <th>3</th>\n      <td>23</td>\n      <td>0</td>\n      <td>0</td>\n      <td>0</td>\n      <td>1</td>\n      <td>8</td>\n      <td>0</td>\n      <td>0</td>\n      <td>0</td>\n      <td>0</td>\n      <td>0</td>\n      <td>0</td>\n      <td>0</td>\n    </tr>\n    <tr>\n      <th>4</th>\n      <td>23</td>\n      <td>0</td>\n      <td>0</td>\n      <td>1</td>\n      <td>1</td>\n      <td>8</td>\n      <td>0</td>\n      <td>0</td>\n      <td>0</td>\n      <td>0</td>\n      <td>0</td>\n      <td>0</td>\n      <td>0</td>\n    </tr>\n  </tbody>\n</table>\n</div>"
     },
     "metadata": {},
     "execution_count": 18
    }
   ],
   "source": [
    "import pandas as pd \n",
    "\n",
    "msc_fail = pd.read_csv(\"MSc_fail.csv\") \n",
    "\n",
    "msc_fail.head()"
   ]
  },
  {
   "source": [
    "# Question 1"
   ],
   "cell_type": "markdown",
   "metadata": {}
  },
  {
   "cell_type": "code",
   "execution_count": 19,
   "metadata": {},
   "outputs": [
    {
     "output_type": "stream",
     "name": "stdout",
     "text": [
      "[[ 0.0157023  -0.22056742 -0.66264449  0.04256528  0.21030045 -1.13235527\n   0.43092646  0.15206847 -0.00890472  0.85626356  0.80157956]]\nTraining set score: 0.867\nTest set score: 0.864\n"
     ]
    }
   ],
   "source": [
    "x_list = [\"Age\", \"Female\", \"Work Experience\", \"English\", \n",
    "          \"PG Degree\", \"Agrade\", \"BelowBGrade\", \"Year2004\", \n",
    "          \"Year2005\", \"Year2006\", \"Year2007\"]\n",
    "y = msc_fail[\"Fail\"]\n",
    "x = msc_fail[x_list]\n",
    "\n",
    "from sklearn.model_selection import train_test_split\n",
    "from sklearn.linear_model import LogisticRegression\n",
    "\n",
    "x1_train, x1_test, y1_train, y1_test = train_test_split(x, y, random_state=0)\n",
    "\n",
    "logreg = LogisticRegression().fit(x1_train,y1_train)\n",
    "print(logreg.coef_)\n",
    "\n",
    "print(\"Training set score: {:.3f}\".format(logreg.score(x1_train,y1_train)))\n",
    "print(\"Test set score: {:.3f}\".format(logreg.score(x1_test,y1_test)))"
   ]
  },
  {
   "cell_type": "code",
   "execution_count": 20,
   "metadata": {},
   "outputs": [
    {
     "output_type": "stream",
     "name": "stdout",
     "text": [
      "Optimization terminated successfully.\n         Current function value: 0.363545\n         Iterations 7\n"
     ]
    },
    {
     "output_type": "execute_result",
     "data": {
      "text/plain": [
       "<class 'statsmodels.iolib.summary.Summary'>\n",
       "\"\"\"\n",
       "                           Logit Regression Results                           \n",
       "==============================================================================\n",
       "Dep. Variable:                   Fail   No. Observations:                  500\n",
       "Model:                          Logit   Df Residuals:                      489\n",
       "Method:                           MLE   Df Model:                           10\n",
       "Date:                Wed, 23 Dec 2020   Pseudo R-squ.:                 0.07711\n",
       "Time:                        20:27:30   Log-Likelihood:                -181.77\n",
       "converged:                       True   LL-Null:                       -196.96\n",
       "Covariance Type:            nonrobust   LLR p-value:                 0.0007436\n",
       "===================================================================================\n",
       "                      coef    std err          z      P>|z|      [0.025      0.975]\n",
       "-----------------------------------------------------------------------------------\n",
       "Age                -0.0645      0.016     -4.057      0.000      -0.096      -0.033\n",
       "Female             -0.4759      0.341     -1.396      0.163      -1.144       0.192\n",
       "Work Experience    -0.4994      0.282     -1.774      0.076      -1.051       0.052\n",
       "English            -0.3785      0.262     -1.445      0.148      -0.892       0.135\n",
       "PG Degree           0.5135      0.390      1.316      0.188      -0.252       1.279\n",
       "Agrade             -1.1742      0.489     -2.402      0.016      -2.132      -0.216\n",
       "BelowBGrade         0.5557      0.378      1.470      0.141      -0.185       1.296\n",
       "Year2004            0.4028      0.461      0.873      0.383      -0.502       1.307\n",
       "Year2005           -0.4790      0.548     -0.874      0.382      -1.553       0.595\n",
       "Year2006            1.0344      0.437      2.368      0.018       0.178       1.890\n",
       "Year2007            0.5281      0.447      1.181      0.238      -0.348       1.404\n",
       "===================================================================================\n",
       "\"\"\""
      ],
      "text/html": "<table class=\"simpletable\">\n<caption>Logit Regression Results</caption>\n<tr>\n  <th>Dep. Variable:</th>         <td>Fail</td>       <th>  No. Observations:  </th>  <td>   500</td>  \n</tr>\n<tr>\n  <th>Model:</th>                 <td>Logit</td>      <th>  Df Residuals:      </th>  <td>   489</td>  \n</tr>\n<tr>\n  <th>Method:</th>                 <td>MLE</td>       <th>  Df Model:          </th>  <td>    10</td>  \n</tr>\n<tr>\n  <th>Date:</th>            <td>Wed, 23 Dec 2020</td> <th>  Pseudo R-squ.:     </th>  <td>0.07711</td> \n</tr>\n<tr>\n  <th>Time:</th>                <td>20:27:30</td>     <th>  Log-Likelihood:    </th> <td> -181.77</td> \n</tr>\n<tr>\n  <th>converged:</th>             <td>True</td>       <th>  LL-Null:           </th> <td> -196.96</td> \n</tr>\n<tr>\n  <th>Covariance Type:</th>     <td>nonrobust</td>    <th>  LLR p-value:       </th> <td>0.0007436</td>\n</tr>\n</table>\n<table class=\"simpletable\">\n<tr>\n         <td></td>            <th>coef</th>     <th>std err</th>      <th>z</th>      <th>P>|z|</th>  <th>[0.025</th>    <th>0.975]</th>  \n</tr>\n<tr>\n  <th>Age</th>             <td>   -0.0645</td> <td>    0.016</td> <td>   -4.057</td> <td> 0.000</td> <td>   -0.096</td> <td>   -0.033</td>\n</tr>\n<tr>\n  <th>Female</th>          <td>   -0.4759</td> <td>    0.341</td> <td>   -1.396</td> <td> 0.163</td> <td>   -1.144</td> <td>    0.192</td>\n</tr>\n<tr>\n  <th>Work Experience</th> <td>   -0.4994</td> <td>    0.282</td> <td>   -1.774</td> <td> 0.076</td> <td>   -1.051</td> <td>    0.052</td>\n</tr>\n<tr>\n  <th>English</th>         <td>   -0.3785</td> <td>    0.262</td> <td>   -1.445</td> <td> 0.148</td> <td>   -0.892</td> <td>    0.135</td>\n</tr>\n<tr>\n  <th>PG Degree</th>       <td>    0.5135</td> <td>    0.390</td> <td>    1.316</td> <td> 0.188</td> <td>   -0.252</td> <td>    1.279</td>\n</tr>\n<tr>\n  <th>Agrade</th>          <td>   -1.1742</td> <td>    0.489</td> <td>   -2.402</td> <td> 0.016</td> <td>   -2.132</td> <td>   -0.216</td>\n</tr>\n<tr>\n  <th>BelowBGrade</th>     <td>    0.5557</td> <td>    0.378</td> <td>    1.470</td> <td> 0.141</td> <td>   -0.185</td> <td>    1.296</td>\n</tr>\n<tr>\n  <th>Year2004</th>        <td>    0.4028</td> <td>    0.461</td> <td>    0.873</td> <td> 0.383</td> <td>   -0.502</td> <td>    1.307</td>\n</tr>\n<tr>\n  <th>Year2005</th>        <td>   -0.4790</td> <td>    0.548</td> <td>   -0.874</td> <td> 0.382</td> <td>   -1.553</td> <td>    0.595</td>\n</tr>\n<tr>\n  <th>Year2006</th>        <td>    1.0344</td> <td>    0.437</td> <td>    2.368</td> <td> 0.018</td> <td>    0.178</td> <td>    1.890</td>\n</tr>\n<tr>\n  <th>Year2007</th>        <td>    0.5281</td> <td>    0.447</td> <td>    1.181</td> <td> 0.238</td> <td>   -0.348</td> <td>    1.404</td>\n</tr>\n</table>"
     },
     "metadata": {},
     "execution_count": 20
    }
   ],
   "source": [
    "import statsmodels.api as sm\n",
    "\n",
    "logit_model = sm.Logit(y,x)\n",
    "result = logit_model.fit()\n",
    "result.summary()"
   ]
  },
  {
   "source": [
    "adding a constant to the logit model"
   ],
   "cell_type": "markdown",
   "metadata": {}
  },
  {
   "cell_type": "code",
   "execution_count": 21,
   "metadata": {},
   "outputs": [
    {
     "output_type": "stream",
     "name": "stdout",
     "text": [
      "Optimization terminated successfully.\n         Current function value: 0.359433\n         Iterations 7\n"
     ]
    },
    {
     "output_type": "execute_result",
     "data": {
      "text/plain": [
       "<class 'statsmodels.iolib.summary.Summary'>\n",
       "\"\"\"\n",
       "                           Logit Regression Results                           \n",
       "==============================================================================\n",
       "Dep. Variable:                   Fail   No. Observations:                  500\n",
       "Model:                          Logit   Df Residuals:                      488\n",
       "Method:                           MLE   Df Model:                           11\n",
       "Date:                Wed, 23 Dec 2020   Pseudo R-squ.:                 0.08755\n",
       "Time:                        20:27:30   Log-Likelihood:                -179.72\n",
       "converged:                       True   LL-Null:                       -196.96\n",
       "Covariance Type:            nonrobust   LLR p-value:                 0.0003010\n",
       "===================================================================================\n",
       "                      coef    std err          z      P>|z|      [0.025      0.975]\n",
       "-----------------------------------------------------------------------------------\n",
       "const              -2.2564      1.073     -2.103      0.035      -4.359      -0.153\n",
       "Age                 0.0110      0.038      0.289      0.773      -0.064       0.086\n",
       "Female             -0.3339      0.349     -0.956      0.339      -1.018       0.351\n",
       "Work Experience    -0.5688      0.288     -1.972      0.049      -1.134      -0.003\n",
       "English            -0.1651      0.283     -0.584      0.560      -0.720       0.389\n",
       "PG Degree           0.2121      0.420      0.505      0.614      -0.611       1.035\n",
       "Agrade             -1.0850      0.491     -2.209      0.027      -2.048      -0.122\n",
       "BelowBGrade         0.5624      0.374      1.506      0.132      -0.170       1.294\n",
       "Year2004            0.6532      0.501      1.304      0.192      -0.329       1.635\n",
       "Year2005           -0.1838      0.588     -0.313      0.755      -1.336       0.969\n",
       "Year2006            1.2466      0.474      2.632      0.008       0.318       2.175\n",
       "Year2007            0.8504      0.497      1.711      0.087      -0.124       1.825\n",
       "===================================================================================\n",
       "\"\"\""
      ],
      "text/html": "<table class=\"simpletable\">\n<caption>Logit Regression Results</caption>\n<tr>\n  <th>Dep. Variable:</th>         <td>Fail</td>       <th>  No. Observations:  </th>  <td>   500</td>  \n</tr>\n<tr>\n  <th>Model:</th>                 <td>Logit</td>      <th>  Df Residuals:      </th>  <td>   488</td>  \n</tr>\n<tr>\n  <th>Method:</th>                 <td>MLE</td>       <th>  Df Model:          </th>  <td>    11</td>  \n</tr>\n<tr>\n  <th>Date:</th>            <td>Wed, 23 Dec 2020</td> <th>  Pseudo R-squ.:     </th>  <td>0.08755</td> \n</tr>\n<tr>\n  <th>Time:</th>                <td>20:27:30</td>     <th>  Log-Likelihood:    </th> <td> -179.72</td> \n</tr>\n<tr>\n  <th>converged:</th>             <td>True</td>       <th>  LL-Null:           </th> <td> -196.96</td> \n</tr>\n<tr>\n  <th>Covariance Type:</th>     <td>nonrobust</td>    <th>  LLR p-value:       </th> <td>0.0003010</td>\n</tr>\n</table>\n<table class=\"simpletable\">\n<tr>\n         <td></td>            <th>coef</th>     <th>std err</th>      <th>z</th>      <th>P>|z|</th>  <th>[0.025</th>    <th>0.975]</th>  \n</tr>\n<tr>\n  <th>const</th>           <td>   -2.2564</td> <td>    1.073</td> <td>   -2.103</td> <td> 0.035</td> <td>   -4.359</td> <td>   -0.153</td>\n</tr>\n<tr>\n  <th>Age</th>             <td>    0.0110</td> <td>    0.038</td> <td>    0.289</td> <td> 0.773</td> <td>   -0.064</td> <td>    0.086</td>\n</tr>\n<tr>\n  <th>Female</th>          <td>   -0.3339</td> <td>    0.349</td> <td>   -0.956</td> <td> 0.339</td> <td>   -1.018</td> <td>    0.351</td>\n</tr>\n<tr>\n  <th>Work Experience</th> <td>   -0.5688</td> <td>    0.288</td> <td>   -1.972</td> <td> 0.049</td> <td>   -1.134</td> <td>   -0.003</td>\n</tr>\n<tr>\n  <th>English</th>         <td>   -0.1651</td> <td>    0.283</td> <td>   -0.584</td> <td> 0.560</td> <td>   -0.720</td> <td>    0.389</td>\n</tr>\n<tr>\n  <th>PG Degree</th>       <td>    0.2121</td> <td>    0.420</td> <td>    0.505</td> <td> 0.614</td> <td>   -0.611</td> <td>    1.035</td>\n</tr>\n<tr>\n  <th>Agrade</th>          <td>   -1.0850</td> <td>    0.491</td> <td>   -2.209</td> <td> 0.027</td> <td>   -2.048</td> <td>   -0.122</td>\n</tr>\n<tr>\n  <th>BelowBGrade</th>     <td>    0.5624</td> <td>    0.374</td> <td>    1.506</td> <td> 0.132</td> <td>   -0.170</td> <td>    1.294</td>\n</tr>\n<tr>\n  <th>Year2004</th>        <td>    0.6532</td> <td>    0.501</td> <td>    1.304</td> <td> 0.192</td> <td>   -0.329</td> <td>    1.635</td>\n</tr>\n<tr>\n  <th>Year2005</th>        <td>   -0.1838</td> <td>    0.588</td> <td>   -0.313</td> <td> 0.755</td> <td>   -1.336</td> <td>    0.969</td>\n</tr>\n<tr>\n  <th>Year2006</th>        <td>    1.2466</td> <td>    0.474</td> <td>    2.632</td> <td> 0.008</td> <td>    0.318</td> <td>    2.175</td>\n</tr>\n<tr>\n  <th>Year2007</th>        <td>    0.8504</td> <td>    0.497</td> <td>    1.711</td> <td> 0.087</td> <td>   -0.124</td> <td>    1.825</td>\n</tr>\n</table>"
     },
     "metadata": {},
     "execution_count": 21
    }
   ],
   "source": [
    "from statsmodels.discrete.discrete_model import Logit, Probit\n",
    "from statsmodels.tools import add_constant\n",
    "\n",
    "x = add_constant(x)\n",
    "Logit(y, x).fit().summary()"
   ]
  },
  {
   "source": [
    "building the probit model"
   ],
   "cell_type": "markdown",
   "metadata": {}
  },
  {
   "cell_type": "code",
   "execution_count": 22,
   "metadata": {},
   "outputs": [
    {
     "output_type": "stream",
     "name": "stdout",
     "text": [
      "Optimization terminated successfully.\n         Current function value: 0.358913\n         Iterations 6\n"
     ]
    },
    {
     "output_type": "execute_result",
     "data": {
      "text/plain": [
       "<class 'statsmodels.iolib.summary.Summary'>\n",
       "\"\"\"\n",
       "                          Probit Regression Results                           \n",
       "==============================================================================\n",
       "Dep. Variable:                   Fail   No. Observations:                  500\n",
       "Model:                         Probit   Df Residuals:                      488\n",
       "Method:                           MLE   Df Model:                           11\n",
       "Date:                Wed, 23 Dec 2020   Pseudo R-squ.:                 0.08887\n",
       "Time:                        20:27:30   Log-Likelihood:                -179.46\n",
       "converged:                       True   LL-Null:                       -196.96\n",
       "Covariance Type:            nonrobust   LLR p-value:                 0.0002471\n",
       "===================================================================================\n",
       "                      coef    std err          z      P>|z|      [0.025      0.975]\n",
       "-----------------------------------------------------------------------------------\n",
       "const              -1.2872      0.569     -2.261      0.024      -2.403      -0.172\n",
       "Age                 0.0057      0.020      0.282      0.778      -0.034       0.045\n",
       "Female             -0.1941      0.184     -1.052      0.293      -0.556       0.167\n",
       "Work Experience    -0.3182      0.157     -2.031      0.042      -0.625      -0.011\n",
       "English            -0.0938      0.154     -0.610      0.542      -0.395       0.207\n",
       "PG Degree           0.1330      0.230      0.577      0.564      -0.318       0.584\n",
       "Agrade             -0.5388      0.235     -2.290      0.022      -1.000      -0.078\n",
       "BelowBGrade         0.3418      0.214      1.595      0.111      -0.078       0.762\n",
       "Year2004            0.3497      0.258      1.355      0.175      -0.156       0.855\n",
       "Year2005           -0.1083      0.293     -0.370      0.711      -0.682       0.466\n",
       "Year2006            0.6736      0.246      2.735      0.006       0.191       1.156\n",
       "Year2007            0.4338      0.259      1.673      0.094      -0.074       0.942\n",
       "===================================================================================\n",
       "\"\"\""
      ],
      "text/html": "<table class=\"simpletable\">\n<caption>Probit Regression Results</caption>\n<tr>\n  <th>Dep. Variable:</th>         <td>Fail</td>       <th>  No. Observations:  </th>  <td>   500</td>  \n</tr>\n<tr>\n  <th>Model:</th>                <td>Probit</td>      <th>  Df Residuals:      </th>  <td>   488</td>  \n</tr>\n<tr>\n  <th>Method:</th>                 <td>MLE</td>       <th>  Df Model:          </th>  <td>    11</td>  \n</tr>\n<tr>\n  <th>Date:</th>            <td>Wed, 23 Dec 2020</td> <th>  Pseudo R-squ.:     </th>  <td>0.08887</td> \n</tr>\n<tr>\n  <th>Time:</th>                <td>20:27:30</td>     <th>  Log-Likelihood:    </th> <td> -179.46</td> \n</tr>\n<tr>\n  <th>converged:</th>             <td>True</td>       <th>  LL-Null:           </th> <td> -196.96</td> \n</tr>\n<tr>\n  <th>Covariance Type:</th>     <td>nonrobust</td>    <th>  LLR p-value:       </th> <td>0.0002471</td>\n</tr>\n</table>\n<table class=\"simpletable\">\n<tr>\n         <td></td>            <th>coef</th>     <th>std err</th>      <th>z</th>      <th>P>|z|</th>  <th>[0.025</th>    <th>0.975]</th>  \n</tr>\n<tr>\n  <th>const</th>           <td>   -1.2872</td> <td>    0.569</td> <td>   -2.261</td> <td> 0.024</td> <td>   -2.403</td> <td>   -0.172</td>\n</tr>\n<tr>\n  <th>Age</th>             <td>    0.0057</td> <td>    0.020</td> <td>    0.282</td> <td> 0.778</td> <td>   -0.034</td> <td>    0.045</td>\n</tr>\n<tr>\n  <th>Female</th>          <td>   -0.1941</td> <td>    0.184</td> <td>   -1.052</td> <td> 0.293</td> <td>   -0.556</td> <td>    0.167</td>\n</tr>\n<tr>\n  <th>Work Experience</th> <td>   -0.3182</td> <td>    0.157</td> <td>   -2.031</td> <td> 0.042</td> <td>   -0.625</td> <td>   -0.011</td>\n</tr>\n<tr>\n  <th>English</th>         <td>   -0.0938</td> <td>    0.154</td> <td>   -0.610</td> <td> 0.542</td> <td>   -0.395</td> <td>    0.207</td>\n</tr>\n<tr>\n  <th>PG Degree</th>       <td>    0.1330</td> <td>    0.230</td> <td>    0.577</td> <td> 0.564</td> <td>   -0.318</td> <td>    0.584</td>\n</tr>\n<tr>\n  <th>Agrade</th>          <td>   -0.5388</td> <td>    0.235</td> <td>   -2.290</td> <td> 0.022</td> <td>   -1.000</td> <td>   -0.078</td>\n</tr>\n<tr>\n  <th>BelowBGrade</th>     <td>    0.3418</td> <td>    0.214</td> <td>    1.595</td> <td> 0.111</td> <td>   -0.078</td> <td>    0.762</td>\n</tr>\n<tr>\n  <th>Year2004</th>        <td>    0.3497</td> <td>    0.258</td> <td>    1.355</td> <td> 0.175</td> <td>   -0.156</td> <td>    0.855</td>\n</tr>\n<tr>\n  <th>Year2005</th>        <td>   -0.1083</td> <td>    0.293</td> <td>   -0.370</td> <td> 0.711</td> <td>   -0.682</td> <td>    0.466</td>\n</tr>\n<tr>\n  <th>Year2006</th>        <td>    0.6736</td> <td>    0.246</td> <td>    2.735</td> <td> 0.006</td> <td>    0.191</td> <td>    1.156</td>\n</tr>\n<tr>\n  <th>Year2007</th>        <td>    0.4338</td> <td>    0.259</td> <td>    1.673</td> <td> 0.094</td> <td>   -0.074</td> <td>    0.942</td>\n</tr>\n</table>"
     },
     "metadata": {},
     "execution_count": 22
    }
   ],
   "source": [
    "Probit(y, x).fit().summary()"
   ]
  },
  {
   "source": [
    "# Question 2"
   ],
   "cell_type": "markdown",
   "metadata": {}
  },
  {
   "source": [
    "msc_fail.groupby('Country Code').mean()"
   ],
   "cell_type": "code",
   "metadata": {},
   "execution_count": 23,
   "outputs": [
    {
     "output_type": "execute_result",
     "data": {
      "text/plain": [
       "                    Age    Female      Fail  Work Experience   English  \\\n",
       "Country Code                                                             \n",
       "1             24.629630  0.296296  0.111111         0.518519  1.000000   \n",
       "2             26.220000  0.430000  0.150000         0.520000  0.050000   \n",
       "3             23.687500  0.250000  0.000000         0.468750  0.000000   \n",
       "4             23.075000  0.350000  0.075000         0.625000  1.000000   \n",
       "5             35.111111  0.111111  0.111111         0.777778  0.000000   \n",
       "6             30.333333  0.250000  0.250000         1.000000  1.000000   \n",
       "7             26.911765  0.352941  0.294118         0.558824  0.000000   \n",
       "8             24.000000  0.256250  0.137500         0.468750  1.000000   \n",
       "9             25.652174  0.217391  0.130435         0.782609  0.260870   \n",
       "10            28.111111  0.238095  0.111111         0.809524  0.396825   \n",
       "\n",
       "              PG Degree    Agrade  BelowBGrade  Year2004  Year2005  Year2006  \\\n",
       "Country Code                                                                   \n",
       "1              0.185185  0.333333     0.222222  0.111111  0.185185  0.407407   \n",
       "2              0.180000  0.060000     0.110000  0.220000  0.280000  0.130000   \n",
       "3              0.000000  0.281250     0.062500  0.281250  0.218750  0.156250   \n",
       "4              0.225000  0.225000     0.075000  0.200000  0.175000  0.225000   \n",
       "5              0.333333  0.000000     0.111111  0.222222  0.444444  0.222222   \n",
       "6              0.166667  0.000000     0.083333  0.333333  0.333333  0.250000   \n",
       "7              0.058824  0.411765     0.176471  0.088235  0.000000  0.323529   \n",
       "8              0.068750  0.168750     0.087500  0.206250  0.168750  0.193750   \n",
       "9              0.130435  0.347826     0.086957  0.260870  0.260870  0.173913   \n",
       "10             0.285714  0.333333     0.126984  0.158730  0.190476  0.174603   \n",
       "\n",
       "              Year2007  \n",
       "Country Code            \n",
       "1             0.148148  \n",
       "2             0.180000  \n",
       "3             0.187500  \n",
       "4             0.300000  \n",
       "5             0.000000  \n",
       "6             0.083333  \n",
       "7             0.352941  \n",
       "8             0.150000  \n",
       "9             0.173913  \n",
       "10            0.301587  "
      ],
      "text/html": "<div>\n<style scoped>\n    .dataframe tbody tr th:only-of-type {\n        vertical-align: middle;\n    }\n\n    .dataframe tbody tr th {\n        vertical-align: top;\n    }\n\n    .dataframe thead th {\n        text-align: right;\n    }\n</style>\n<table border=\"1\" class=\"dataframe\">\n  <thead>\n    <tr style=\"text-align: right;\">\n      <th></th>\n      <th>Age</th>\n      <th>Female</th>\n      <th>Fail</th>\n      <th>Work Experience</th>\n      <th>English</th>\n      <th>PG Degree</th>\n      <th>Agrade</th>\n      <th>BelowBGrade</th>\n      <th>Year2004</th>\n      <th>Year2005</th>\n      <th>Year2006</th>\n      <th>Year2007</th>\n    </tr>\n    <tr>\n      <th>Country Code</th>\n      <th></th>\n      <th></th>\n      <th></th>\n      <th></th>\n      <th></th>\n      <th></th>\n      <th></th>\n      <th></th>\n      <th></th>\n      <th></th>\n      <th></th>\n      <th></th>\n    </tr>\n  </thead>\n  <tbody>\n    <tr>\n      <th>1</th>\n      <td>24.629630</td>\n      <td>0.296296</td>\n      <td>0.111111</td>\n      <td>0.518519</td>\n      <td>1.000000</td>\n      <td>0.185185</td>\n      <td>0.333333</td>\n      <td>0.222222</td>\n      <td>0.111111</td>\n      <td>0.185185</td>\n      <td>0.407407</td>\n      <td>0.148148</td>\n    </tr>\n    <tr>\n      <th>2</th>\n      <td>26.220000</td>\n      <td>0.430000</td>\n      <td>0.150000</td>\n      <td>0.520000</td>\n      <td>0.050000</td>\n      <td>0.180000</td>\n      <td>0.060000</td>\n      <td>0.110000</td>\n      <td>0.220000</td>\n      <td>0.280000</td>\n      <td>0.130000</td>\n      <td>0.180000</td>\n    </tr>\n    <tr>\n      <th>3</th>\n      <td>23.687500</td>\n      <td>0.250000</td>\n      <td>0.000000</td>\n      <td>0.468750</td>\n      <td>0.000000</td>\n      <td>0.000000</td>\n      <td>0.281250</td>\n      <td>0.062500</td>\n      <td>0.281250</td>\n      <td>0.218750</td>\n      <td>0.156250</td>\n      <td>0.187500</td>\n    </tr>\n    <tr>\n      <th>4</th>\n      <td>23.075000</td>\n      <td>0.350000</td>\n      <td>0.075000</td>\n      <td>0.625000</td>\n      <td>1.000000</td>\n      <td>0.225000</td>\n      <td>0.225000</td>\n      <td>0.075000</td>\n      <td>0.200000</td>\n      <td>0.175000</td>\n      <td>0.225000</td>\n      <td>0.300000</td>\n    </tr>\n    <tr>\n      <th>5</th>\n      <td>35.111111</td>\n      <td>0.111111</td>\n      <td>0.111111</td>\n      <td>0.777778</td>\n      <td>0.000000</td>\n      <td>0.333333</td>\n      <td>0.000000</td>\n      <td>0.111111</td>\n      <td>0.222222</td>\n      <td>0.444444</td>\n      <td>0.222222</td>\n      <td>0.000000</td>\n    </tr>\n    <tr>\n      <th>6</th>\n      <td>30.333333</td>\n      <td>0.250000</td>\n      <td>0.250000</td>\n      <td>1.000000</td>\n      <td>1.000000</td>\n      <td>0.166667</td>\n      <td>0.000000</td>\n      <td>0.083333</td>\n      <td>0.333333</td>\n      <td>0.333333</td>\n      <td>0.250000</td>\n      <td>0.083333</td>\n    </tr>\n    <tr>\n      <th>7</th>\n      <td>26.911765</td>\n      <td>0.352941</td>\n      <td>0.294118</td>\n      <td>0.558824</td>\n      <td>0.000000</td>\n      <td>0.058824</td>\n      <td>0.411765</td>\n      <td>0.176471</td>\n      <td>0.088235</td>\n      <td>0.000000</td>\n      <td>0.323529</td>\n      <td>0.352941</td>\n    </tr>\n    <tr>\n      <th>8</th>\n      <td>24.000000</td>\n      <td>0.256250</td>\n      <td>0.137500</td>\n      <td>0.468750</td>\n      <td>1.000000</td>\n      <td>0.068750</td>\n      <td>0.168750</td>\n      <td>0.087500</td>\n      <td>0.206250</td>\n      <td>0.168750</td>\n      <td>0.193750</td>\n      <td>0.150000</td>\n    </tr>\n    <tr>\n      <th>9</th>\n      <td>25.652174</td>\n      <td>0.217391</td>\n      <td>0.130435</td>\n      <td>0.782609</td>\n      <td>0.260870</td>\n      <td>0.130435</td>\n      <td>0.347826</td>\n      <td>0.086957</td>\n      <td>0.260870</td>\n      <td>0.260870</td>\n      <td>0.173913</td>\n      <td>0.173913</td>\n    </tr>\n    <tr>\n      <th>10</th>\n      <td>28.111111</td>\n      <td>0.238095</td>\n      <td>0.111111</td>\n      <td>0.809524</td>\n      <td>0.396825</td>\n      <td>0.285714</td>\n      <td>0.333333</td>\n      <td>0.126984</td>\n      <td>0.158730</td>\n      <td>0.190476</td>\n      <td>0.174603</td>\n      <td>0.301587</td>\n    </tr>\n  </tbody>\n</table>\n</div>"
     },
     "metadata": {},
     "execution_count": 23
    }
   ]
  },
  {
   "cell_type": "code",
   "execution_count": 24,
   "metadata": {},
   "outputs": [
    {
     "output_type": "execute_result",
     "data": {
      "text/plain": [
       "              Age  Female  Fail  Work Experience  English  PG Degree  Agrade  \\\n",
       "Country Code                                                                   \n",
       "1              27      27    27               27       27         27      27   \n",
       "2             100     100   100              100      100        100     100   \n",
       "3              32      32    32               32       32         32      32   \n",
       "4              40      40    40               40       40         40      40   \n",
       "5               9       9     9                9        9          9       9   \n",
       "6              12      12    12               12       12         12      12   \n",
       "7              34      34    34               34       34         34      34   \n",
       "8             160     160   160              160      160        160     160   \n",
       "9              23      23    23               23       23         23      23   \n",
       "10             63      63    63               63       63         63      63   \n",
       "\n",
       "              BelowBGrade  Year2004  Year2005  Year2006  Year2007  \n",
       "Country Code                                                       \n",
       "1                      27        27        27        27        27  \n",
       "2                     100       100       100       100       100  \n",
       "3                      32        32        32        32        32  \n",
       "4                      40        40        40        40        40  \n",
       "5                       9         9         9         9         9  \n",
       "6                      12        12        12        12        12  \n",
       "7                      34        34        34        34        34  \n",
       "8                     160       160       160       160       160  \n",
       "9                      23        23        23        23        23  \n",
       "10                     63        63        63        63        63  "
      ],
      "text/html": "<div>\n<style scoped>\n    .dataframe tbody tr th:only-of-type {\n        vertical-align: middle;\n    }\n\n    .dataframe tbody tr th {\n        vertical-align: top;\n    }\n\n    .dataframe thead th {\n        text-align: right;\n    }\n</style>\n<table border=\"1\" class=\"dataframe\">\n  <thead>\n    <tr style=\"text-align: right;\">\n      <th></th>\n      <th>Age</th>\n      <th>Female</th>\n      <th>Fail</th>\n      <th>Work Experience</th>\n      <th>English</th>\n      <th>PG Degree</th>\n      <th>Agrade</th>\n      <th>BelowBGrade</th>\n      <th>Year2004</th>\n      <th>Year2005</th>\n      <th>Year2006</th>\n      <th>Year2007</th>\n    </tr>\n    <tr>\n      <th>Country Code</th>\n      <th></th>\n      <th></th>\n      <th></th>\n      <th></th>\n      <th></th>\n      <th></th>\n      <th></th>\n      <th></th>\n      <th></th>\n      <th></th>\n      <th></th>\n      <th></th>\n    </tr>\n  </thead>\n  <tbody>\n    <tr>\n      <th>1</th>\n      <td>27</td>\n      <td>27</td>\n      <td>27</td>\n      <td>27</td>\n      <td>27</td>\n      <td>27</td>\n      <td>27</td>\n      <td>27</td>\n      <td>27</td>\n      <td>27</td>\n      <td>27</td>\n      <td>27</td>\n    </tr>\n    <tr>\n      <th>2</th>\n      <td>100</td>\n      <td>100</td>\n      <td>100</td>\n      <td>100</td>\n      <td>100</td>\n      <td>100</td>\n      <td>100</td>\n      <td>100</td>\n      <td>100</td>\n      <td>100</td>\n      <td>100</td>\n      <td>100</td>\n    </tr>\n    <tr>\n      <th>3</th>\n      <td>32</td>\n      <td>32</td>\n      <td>32</td>\n      <td>32</td>\n      <td>32</td>\n      <td>32</td>\n      <td>32</td>\n      <td>32</td>\n      <td>32</td>\n      <td>32</td>\n      <td>32</td>\n      <td>32</td>\n    </tr>\n    <tr>\n      <th>4</th>\n      <td>40</td>\n      <td>40</td>\n      <td>40</td>\n      <td>40</td>\n      <td>40</td>\n      <td>40</td>\n      <td>40</td>\n      <td>40</td>\n      <td>40</td>\n      <td>40</td>\n      <td>40</td>\n      <td>40</td>\n    </tr>\n    <tr>\n      <th>5</th>\n      <td>9</td>\n      <td>9</td>\n      <td>9</td>\n      <td>9</td>\n      <td>9</td>\n      <td>9</td>\n      <td>9</td>\n      <td>9</td>\n      <td>9</td>\n      <td>9</td>\n      <td>9</td>\n      <td>9</td>\n    </tr>\n    <tr>\n      <th>6</th>\n      <td>12</td>\n      <td>12</td>\n      <td>12</td>\n      <td>12</td>\n      <td>12</td>\n      <td>12</td>\n      <td>12</td>\n      <td>12</td>\n      <td>12</td>\n      <td>12</td>\n      <td>12</td>\n      <td>12</td>\n    </tr>\n    <tr>\n      <th>7</th>\n      <td>34</td>\n      <td>34</td>\n      <td>34</td>\n      <td>34</td>\n      <td>34</td>\n      <td>34</td>\n      <td>34</td>\n      <td>34</td>\n      <td>34</td>\n      <td>34</td>\n      <td>34</td>\n      <td>34</td>\n    </tr>\n    <tr>\n      <th>8</th>\n      <td>160</td>\n      <td>160</td>\n      <td>160</td>\n      <td>160</td>\n      <td>160</td>\n      <td>160</td>\n      <td>160</td>\n      <td>160</td>\n      <td>160</td>\n      <td>160</td>\n      <td>160</td>\n      <td>160</td>\n    </tr>\n    <tr>\n      <th>9</th>\n      <td>23</td>\n      <td>23</td>\n      <td>23</td>\n      <td>23</td>\n      <td>23</td>\n      <td>23</td>\n      <td>23</td>\n      <td>23</td>\n      <td>23</td>\n      <td>23</td>\n      <td>23</td>\n      <td>23</td>\n    </tr>\n    <tr>\n      <th>10</th>\n      <td>63</td>\n      <td>63</td>\n      <td>63</td>\n      <td>63</td>\n      <td>63</td>\n      <td>63</td>\n      <td>63</td>\n      <td>63</td>\n      <td>63</td>\n      <td>63</td>\n      <td>63</td>\n      <td>63</td>\n    </tr>\n  </tbody>\n</table>\n</div>"
     },
     "metadata": {},
     "execution_count": 24
    }
   ],
   "source": [
    "msc_fail.groupby('Country Code').count()"
   ]
  },
  {
   "cell_type": "code",
   "execution_count": 25,
   "metadata": {},
   "outputs": [
    {
     "output_type": "execute_result",
     "data": {
      "text/plain": [
       "            Age    Female  Work Experience   English  Country Code  PG Degree  \\\n",
       "Fail                                                                            \n",
       "0     25.475751  0.311778         0.591224  0.554273      5.875289   0.136259   \n",
       "1     25.865672  0.223881         0.477612  0.522388      6.134328   0.179104   \n",
       "\n",
       "        Agrade  BelowBGrade  Year2004  Year2005  Year2006  Year2007  \n",
       "Fail                                                                 \n",
       "0     0.226328     0.092379  0.200924  0.217090  0.177829  0.189376  \n",
       "1     0.074627     0.208955  0.194030  0.089552  0.343284  0.268657  "
      ],
      "text/html": "<div>\n<style scoped>\n    .dataframe tbody tr th:only-of-type {\n        vertical-align: middle;\n    }\n\n    .dataframe tbody tr th {\n        vertical-align: top;\n    }\n\n    .dataframe thead th {\n        text-align: right;\n    }\n</style>\n<table border=\"1\" class=\"dataframe\">\n  <thead>\n    <tr style=\"text-align: right;\">\n      <th></th>\n      <th>Age</th>\n      <th>Female</th>\n      <th>Work Experience</th>\n      <th>English</th>\n      <th>Country Code</th>\n      <th>PG Degree</th>\n      <th>Agrade</th>\n      <th>BelowBGrade</th>\n      <th>Year2004</th>\n      <th>Year2005</th>\n      <th>Year2006</th>\n      <th>Year2007</th>\n    </tr>\n    <tr>\n      <th>Fail</th>\n      <th></th>\n      <th></th>\n      <th></th>\n      <th></th>\n      <th></th>\n      <th></th>\n      <th></th>\n      <th></th>\n      <th></th>\n      <th></th>\n      <th></th>\n      <th></th>\n    </tr>\n  </thead>\n  <tbody>\n    <tr>\n      <th>0</th>\n      <td>25.475751</td>\n      <td>0.311778</td>\n      <td>0.591224</td>\n      <td>0.554273</td>\n      <td>5.875289</td>\n      <td>0.136259</td>\n      <td>0.226328</td>\n      <td>0.092379</td>\n      <td>0.200924</td>\n      <td>0.217090</td>\n      <td>0.177829</td>\n      <td>0.189376</td>\n    </tr>\n    <tr>\n      <th>1</th>\n      <td>25.865672</td>\n      <td>0.223881</td>\n      <td>0.477612</td>\n      <td>0.522388</td>\n      <td>6.134328</td>\n      <td>0.179104</td>\n      <td>0.074627</td>\n      <td>0.208955</td>\n      <td>0.194030</td>\n      <td>0.089552</td>\n      <td>0.343284</td>\n      <td>0.268657</td>\n    </tr>\n  </tbody>\n</table>\n</div>"
     },
     "metadata": {},
     "execution_count": 25
    }
   ],
   "source": [
    "msc_fail.groupby('Fail').mean()"
   ]
  },
  {
   "cell_type": "code",
   "execution_count": 26,
   "metadata": {},
   "outputs": [
    {
     "output_type": "execute_result",
     "data": {
      "text/plain": [
       "      Age  Female  Work Experience  English  Country Code  PG Degree  Agrade  \\\n",
       "Fail                                                                           \n",
       "0     433     433              433      433           433        433     433   \n",
       "1      67      67               67       67            67         67      67   \n",
       "\n",
       "      BelowBGrade  Year2004  Year2005  Year2006  Year2007  \n",
       "Fail                                                       \n",
       "0             433       433       433       433       433  \n",
       "1              67        67        67        67        67  "
      ],
      "text/html": "<div>\n<style scoped>\n    .dataframe tbody tr th:only-of-type {\n        vertical-align: middle;\n    }\n\n    .dataframe tbody tr th {\n        vertical-align: top;\n    }\n\n    .dataframe thead th {\n        text-align: right;\n    }\n</style>\n<table border=\"1\" class=\"dataframe\">\n  <thead>\n    <tr style=\"text-align: right;\">\n      <th></th>\n      <th>Age</th>\n      <th>Female</th>\n      <th>Work Experience</th>\n      <th>English</th>\n      <th>Country Code</th>\n      <th>PG Degree</th>\n      <th>Agrade</th>\n      <th>BelowBGrade</th>\n      <th>Year2004</th>\n      <th>Year2005</th>\n      <th>Year2006</th>\n      <th>Year2007</th>\n    </tr>\n    <tr>\n      <th>Fail</th>\n      <th></th>\n      <th></th>\n      <th></th>\n      <th></th>\n      <th></th>\n      <th></th>\n      <th></th>\n      <th></th>\n      <th></th>\n      <th></th>\n      <th></th>\n      <th></th>\n    </tr>\n  </thead>\n  <tbody>\n    <tr>\n      <th>0</th>\n      <td>433</td>\n      <td>433</td>\n      <td>433</td>\n      <td>433</td>\n      <td>433</td>\n      <td>433</td>\n      <td>433</td>\n      <td>433</td>\n      <td>433</td>\n      <td>433</td>\n      <td>433</td>\n      <td>433</td>\n    </tr>\n    <tr>\n      <th>1</th>\n      <td>67</td>\n      <td>67</td>\n      <td>67</td>\n      <td>67</td>\n      <td>67</td>\n      <td>67</td>\n      <td>67</td>\n      <td>67</td>\n      <td>67</td>\n      <td>67</td>\n      <td>67</td>\n      <td>67</td>\n    </tr>\n  </tbody>\n</table>\n</div>"
     },
     "metadata": {},
     "execution_count": 26
    }
   ],
   "source": [
    "msc_fail.groupby('Fail').count()"
   ]
  },
  {
   "source": [
    "Then we run a country regression"
   ],
   "cell_type": "markdown",
   "metadata": {}
  },
  {
   "cell_type": "code",
   "execution_count": 27,
   "metadata": {},
   "outputs": [],
   "source": [
    "msc_country = pd.read_csv(\"MSc_Country.csv\") \n",
    "\n",
    "msc_country.head()\n",
    "\n",
    "x2_list = [\"Age\", \"Female\", \"Work Experience\", \"English\", \n",
    "           \"PG Degree\", \"Agrade\", \"BelowBGrade\", \"Year2004\", \n",
    "           \"Year2005\", \"Year2006\", \"Year2007\", \"Country1\",\n",
    "           \"Country2\", \"Country3\", \"Country4\", \"Country5\",\n",
    "           \"Country6\", \"Country7\", \"Country9\", \"Country10\"]\n",
    "y2 = msc_fail[\"Fail\"]\n",
    "x2 = msc_country[x2_list]"
   ]
  },
  {
   "cell_type": "code",
   "execution_count": 28,
   "metadata": {},
   "outputs": [
    {
     "output_type": "stream",
     "name": "stdout",
     "text": [
      "Warning: Maximum number of iterations has been exceeded.\n",
      "         Current function value: 0.341316\n",
      "         Iterations: 35\n",
      "/home/free/Documents/econometric/env/lib/python3.8/site-packages/statsmodels/base/model.py:566: ConvergenceWarning: Maximum Likelihood optimization failed to converge. Check mle_retvals\n",
      "  warnings.warn(\"Maximum Likelihood optimization failed to \"\n"
     ]
    },
    {
     "output_type": "execute_result",
     "data": {
      "text/plain": [
       "<class 'statsmodels.iolib.summary.Summary'>\n",
       "\"\"\"\n",
       "                           Logit Regression Results                           \n",
       "==============================================================================\n",
       "Dep. Variable:                   Fail   No. Observations:                  500\n",
       "Model:                          Logit   Df Residuals:                      479\n",
       "Method:                           MLE   Df Model:                           20\n",
       "Date:                Wed, 23 Dec 2020   Pseudo R-squ.:                  0.1335\n",
       "Time:                        20:27:31   Log-Likelihood:                -170.66\n",
       "converged:                      False   LL-Null:                       -196.96\n",
       "Covariance Type:            nonrobust   LLR p-value:                 9.290e-05\n",
       "===================================================================================\n",
       "                      coef    std err          z      P>|z|      [0.025      0.975]\n",
       "-----------------------------------------------------------------------------------\n",
       "const              -1.2172      1.379     -0.883      0.377      -3.920       1.485\n",
       "Age                -0.0251      0.047     -0.537      0.591      -0.117       0.067\n",
       "Female             -0.4051      0.362     -1.120      0.263      -1.114       0.304\n",
       "Work Experience    -0.6253      0.307     -2.036      0.042      -1.227      -0.023\n",
       "English            -0.1946      0.654     -0.297      0.766      -1.477       1.088\n",
       "PG Degree           0.4247      0.439      0.967      0.334      -0.436       1.286\n",
       "Agrade             -1.1818      0.517     -2.284      0.022      -2.196      -0.168\n",
       "BelowBGrade         0.5095      0.391      1.303      0.192      -0.257       1.276\n",
       "Year2004            0.6823      0.511      1.335      0.182      -0.320       1.684\n",
       "Year2005           -0.1508      0.603     -0.250      0.803      -1.333       1.032\n",
       "Year2006            1.2243      0.485      2.525      0.012       0.274       2.175\n",
       "Year2007            0.8221      0.511      1.609      0.108      -0.179       1.823\n",
       "Country1           -0.3789      0.690     -0.549      0.583      -1.732       0.974\n",
       "Country2           -0.0653      0.729     -0.089      0.929      -1.495       1.364\n",
       "Country3          -21.6158   2.01e+04     -0.001      0.999   -3.94e+04    3.93e+04\n",
       "Country4           -0.7385      0.669     -1.104      0.270      -2.050       0.573\n",
       "Country5           -0.1584      1.361     -0.116      0.907      -2.826       2.509\n",
       "Country6            1.0257      0.817      1.256      0.209      -0.575       2.627\n",
       "Country7            0.9116      0.829      1.100      0.271      -0.713       2.536\n",
       "Country9            0.2631      0.861      0.305      0.760      -1.425       1.951\n",
       "Country10          -0.1930      0.660     -0.292      0.770      -1.487       1.101\n",
       "===================================================================================\n",
       "\"\"\""
      ],
      "text/html": "<table class=\"simpletable\">\n<caption>Logit Regression Results</caption>\n<tr>\n  <th>Dep. Variable:</th>         <td>Fail</td>       <th>  No. Observations:  </th>  <td>   500</td>  \n</tr>\n<tr>\n  <th>Model:</th>                 <td>Logit</td>      <th>  Df Residuals:      </th>  <td>   479</td>  \n</tr>\n<tr>\n  <th>Method:</th>                 <td>MLE</td>       <th>  Df Model:          </th>  <td>    20</td>  \n</tr>\n<tr>\n  <th>Date:</th>            <td>Wed, 23 Dec 2020</td> <th>  Pseudo R-squ.:     </th>  <td>0.1335</td>  \n</tr>\n<tr>\n  <th>Time:</th>                <td>20:27:31</td>     <th>  Log-Likelihood:    </th> <td> -170.66</td> \n</tr>\n<tr>\n  <th>converged:</th>             <td>False</td>      <th>  LL-Null:           </th> <td> -196.96</td> \n</tr>\n<tr>\n  <th>Covariance Type:</th>     <td>nonrobust</td>    <th>  LLR p-value:       </th> <td>9.290e-05</td>\n</tr>\n</table>\n<table class=\"simpletable\">\n<tr>\n         <td></td>            <th>coef</th>     <th>std err</th>      <th>z</th>      <th>P>|z|</th>  <th>[0.025</th>    <th>0.975]</th>  \n</tr>\n<tr>\n  <th>const</th>           <td>   -1.2172</td> <td>    1.379</td> <td>   -0.883</td> <td> 0.377</td> <td>   -3.920</td> <td>    1.485</td>\n</tr>\n<tr>\n  <th>Age</th>             <td>   -0.0251</td> <td>    0.047</td> <td>   -0.537</td> <td> 0.591</td> <td>   -0.117</td> <td>    0.067</td>\n</tr>\n<tr>\n  <th>Female</th>          <td>   -0.4051</td> <td>    0.362</td> <td>   -1.120</td> <td> 0.263</td> <td>   -1.114</td> <td>    0.304</td>\n</tr>\n<tr>\n  <th>Work Experience</th> <td>   -0.6253</td> <td>    0.307</td> <td>   -2.036</td> <td> 0.042</td> <td>   -1.227</td> <td>   -0.023</td>\n</tr>\n<tr>\n  <th>English</th>         <td>   -0.1946</td> <td>    0.654</td> <td>   -0.297</td> <td> 0.766</td> <td>   -1.477</td> <td>    1.088</td>\n</tr>\n<tr>\n  <th>PG Degree</th>       <td>    0.4247</td> <td>    0.439</td> <td>    0.967</td> <td> 0.334</td> <td>   -0.436</td> <td>    1.286</td>\n</tr>\n<tr>\n  <th>Agrade</th>          <td>   -1.1818</td> <td>    0.517</td> <td>   -2.284</td> <td> 0.022</td> <td>   -2.196</td> <td>   -0.168</td>\n</tr>\n<tr>\n  <th>BelowBGrade</th>     <td>    0.5095</td> <td>    0.391</td> <td>    1.303</td> <td> 0.192</td> <td>   -0.257</td> <td>    1.276</td>\n</tr>\n<tr>\n  <th>Year2004</th>        <td>    0.6823</td> <td>    0.511</td> <td>    1.335</td> <td> 0.182</td> <td>   -0.320</td> <td>    1.684</td>\n</tr>\n<tr>\n  <th>Year2005</th>        <td>   -0.1508</td> <td>    0.603</td> <td>   -0.250</td> <td> 0.803</td> <td>   -1.333</td> <td>    1.032</td>\n</tr>\n<tr>\n  <th>Year2006</th>        <td>    1.2243</td> <td>    0.485</td> <td>    2.525</td> <td> 0.012</td> <td>    0.274</td> <td>    2.175</td>\n</tr>\n<tr>\n  <th>Year2007</th>        <td>    0.8221</td> <td>    0.511</td> <td>    1.609</td> <td> 0.108</td> <td>   -0.179</td> <td>    1.823</td>\n</tr>\n<tr>\n  <th>Country1</th>        <td>   -0.3789</td> <td>    0.690</td> <td>   -0.549</td> <td> 0.583</td> <td>   -1.732</td> <td>    0.974</td>\n</tr>\n<tr>\n  <th>Country2</th>        <td>   -0.0653</td> <td>    0.729</td> <td>   -0.089</td> <td> 0.929</td> <td>   -1.495</td> <td>    1.364</td>\n</tr>\n<tr>\n  <th>Country3</th>        <td>  -21.6158</td> <td> 2.01e+04</td> <td>   -0.001</td> <td> 0.999</td> <td>-3.94e+04</td> <td> 3.93e+04</td>\n</tr>\n<tr>\n  <th>Country4</th>        <td>   -0.7385</td> <td>    0.669</td> <td>   -1.104</td> <td> 0.270</td> <td>   -2.050</td> <td>    0.573</td>\n</tr>\n<tr>\n  <th>Country5</th>        <td>   -0.1584</td> <td>    1.361</td> <td>   -0.116</td> <td> 0.907</td> <td>   -2.826</td> <td>    2.509</td>\n</tr>\n<tr>\n  <th>Country6</th>        <td>    1.0257</td> <td>    0.817</td> <td>    1.256</td> <td> 0.209</td> <td>   -0.575</td> <td>    2.627</td>\n</tr>\n<tr>\n  <th>Country7</th>        <td>    0.9116</td> <td>    0.829</td> <td>    1.100</td> <td> 0.271</td> <td>   -0.713</td> <td>    2.536</td>\n</tr>\n<tr>\n  <th>Country9</th>        <td>    0.2631</td> <td>    0.861</td> <td>    0.305</td> <td> 0.760</td> <td>   -1.425</td> <td>    1.951</td>\n</tr>\n<tr>\n  <th>Country10</th>       <td>   -0.1930</td> <td>    0.660</td> <td>   -0.292</td> <td> 0.770</td> <td>   -1.487</td> <td>    1.101</td>\n</tr>\n</table>"
     },
     "metadata": {},
     "execution_count": 28
    }
   ],
   "source": [
    "x2 = add_constant(x2)\n",
    "Logit(y2, x2).fit().summary()"
   ]
  },
  {
   "source": [
    "change to a robust version"
   ],
   "cell_type": "markdown",
   "metadata": {}
  },
  {
   "cell_type": "code",
   "execution_count": 29,
   "metadata": {},
   "outputs": [
    {
     "output_type": "stream",
     "name": "stdout",
     "text": [
      "Warning: Maximum number of iterations has been exceeded.\n",
      "         Current function value: 0.341316\n",
      "         Iterations: 35\n",
      "/home/free/Documents/econometric/env/lib/python3.8/site-packages/statsmodels/base/model.py:566: ConvergenceWarning: Maximum Likelihood optimization failed to converge. Check mle_retvals\n",
      "  warnings.warn(\"Maximum Likelihood optimization failed to \"\n"
     ]
    },
    {
     "output_type": "execute_result",
     "data": {
      "text/plain": [
       "<class 'statsmodels.iolib.summary.Summary'>\n",
       "\"\"\"\n",
       "                           Logit Regression Results                           \n",
       "==============================================================================\n",
       "Dep. Variable:                   Fail   No. Observations:                  500\n",
       "Model:                          Logit   Df Residuals:                      479\n",
       "Method:                           MLE   Df Model:                           20\n",
       "Date:                Wed, 23 Dec 2020   Pseudo R-squ.:                  0.1335\n",
       "Time:                        20:27:31   Log-Likelihood:                -170.66\n",
       "converged:                      False   LL-Null:                       -196.96\n",
       "Covariance Type:                  hc0   LLR p-value:                 9.290e-05\n",
       "===================================================================================\n",
       "                      coef    std err          z      P>|z|      [0.025      0.975]\n",
       "-----------------------------------------------------------------------------------\n",
       "const              -1.2172      1.875     -0.649      0.516      -4.892       2.458\n",
       "Age                -0.0251      0.065     -0.384      0.701      -0.153       0.103\n",
       "Female             -0.4051      0.380     -1.067      0.286      -1.149       0.339\n",
       "Work Experience    -0.6253      0.300     -2.082      0.037      -1.214      -0.037\n",
       "English            -0.1946      0.641     -0.304      0.761      -1.451       1.062\n",
       "PG Degree           0.4247      0.448      0.949      0.343      -0.453       1.302\n",
       "Agrade             -1.1818      0.502     -2.353      0.019      -2.166      -0.197\n",
       "BelowBGrade         0.5095      0.391      1.303      0.193      -0.257       1.276\n",
       "Year2004            0.6823      0.500      1.365      0.172      -0.298       1.662\n",
       "Year2005           -0.1508      0.531     -0.284      0.776      -1.191       0.889\n",
       "Year2006            1.2243      0.471      2.597      0.009       0.300       2.148\n",
       "Year2007            0.8221      0.493      1.666      0.096      -0.145       1.789\n",
       "Country1           -0.3789      0.675     -0.562      0.574      -1.701       0.943\n",
       "Country2           -0.0653      0.669     -0.098      0.922      -1.376       1.246\n",
       "Country3          -21.6158      0.719    -30.063      0.000     -23.025     -20.207\n",
       "Country4           -0.7385      0.662     -1.115      0.265      -2.036       0.559\n",
       "Country5           -0.1584      1.392     -0.114      0.909      -2.886       2.569\n",
       "Country6            1.0257      0.872      1.177      0.239      -0.683       2.734\n",
       "Country7            0.9116      0.780      1.168      0.243      -0.618       2.441\n",
       "Country9            0.2631      0.858      0.306      0.759      -1.419       1.946\n",
       "Country10          -0.1930      0.628     -0.307      0.759      -1.424       1.038\n",
       "===================================================================================\n",
       "\"\"\""
      ],
      "text/html": "<table class=\"simpletable\">\n<caption>Logit Regression Results</caption>\n<tr>\n  <th>Dep. Variable:</th>         <td>Fail</td>       <th>  No. Observations:  </th>  <td>   500</td>  \n</tr>\n<tr>\n  <th>Model:</th>                 <td>Logit</td>      <th>  Df Residuals:      </th>  <td>   479</td>  \n</tr>\n<tr>\n  <th>Method:</th>                 <td>MLE</td>       <th>  Df Model:          </th>  <td>    20</td>  \n</tr>\n<tr>\n  <th>Date:</th>            <td>Wed, 23 Dec 2020</td> <th>  Pseudo R-squ.:     </th>  <td>0.1335</td>  \n</tr>\n<tr>\n  <th>Time:</th>                <td>20:27:31</td>     <th>  Log-Likelihood:    </th> <td> -170.66</td> \n</tr>\n<tr>\n  <th>converged:</th>             <td>False</td>      <th>  LL-Null:           </th> <td> -196.96</td> \n</tr>\n<tr>\n  <th>Covariance Type:</th>        <td>hc0</td>       <th>  LLR p-value:       </th> <td>9.290e-05</td>\n</tr>\n</table>\n<table class=\"simpletable\">\n<tr>\n         <td></td>            <th>coef</th>     <th>std err</th>      <th>z</th>      <th>P>|z|</th>  <th>[0.025</th>    <th>0.975]</th>  \n</tr>\n<tr>\n  <th>const</th>           <td>   -1.2172</td> <td>    1.875</td> <td>   -0.649</td> <td> 0.516</td> <td>   -4.892</td> <td>    2.458</td>\n</tr>\n<tr>\n  <th>Age</th>             <td>   -0.0251</td> <td>    0.065</td> <td>   -0.384</td> <td> 0.701</td> <td>   -0.153</td> <td>    0.103</td>\n</tr>\n<tr>\n  <th>Female</th>          <td>   -0.4051</td> <td>    0.380</td> <td>   -1.067</td> <td> 0.286</td> <td>   -1.149</td> <td>    0.339</td>\n</tr>\n<tr>\n  <th>Work Experience</th> <td>   -0.6253</td> <td>    0.300</td> <td>   -2.082</td> <td> 0.037</td> <td>   -1.214</td> <td>   -0.037</td>\n</tr>\n<tr>\n  <th>English</th>         <td>   -0.1946</td> <td>    0.641</td> <td>   -0.304</td> <td> 0.761</td> <td>   -1.451</td> <td>    1.062</td>\n</tr>\n<tr>\n  <th>PG Degree</th>       <td>    0.4247</td> <td>    0.448</td> <td>    0.949</td> <td> 0.343</td> <td>   -0.453</td> <td>    1.302</td>\n</tr>\n<tr>\n  <th>Agrade</th>          <td>   -1.1818</td> <td>    0.502</td> <td>   -2.353</td> <td> 0.019</td> <td>   -2.166</td> <td>   -0.197</td>\n</tr>\n<tr>\n  <th>BelowBGrade</th>     <td>    0.5095</td> <td>    0.391</td> <td>    1.303</td> <td> 0.193</td> <td>   -0.257</td> <td>    1.276</td>\n</tr>\n<tr>\n  <th>Year2004</th>        <td>    0.6823</td> <td>    0.500</td> <td>    1.365</td> <td> 0.172</td> <td>   -0.298</td> <td>    1.662</td>\n</tr>\n<tr>\n  <th>Year2005</th>        <td>   -0.1508</td> <td>    0.531</td> <td>   -0.284</td> <td> 0.776</td> <td>   -1.191</td> <td>    0.889</td>\n</tr>\n<tr>\n  <th>Year2006</th>        <td>    1.2243</td> <td>    0.471</td> <td>    2.597</td> <td> 0.009</td> <td>    0.300</td> <td>    2.148</td>\n</tr>\n<tr>\n  <th>Year2007</th>        <td>    0.8221</td> <td>    0.493</td> <td>    1.666</td> <td> 0.096</td> <td>   -0.145</td> <td>    1.789</td>\n</tr>\n<tr>\n  <th>Country1</th>        <td>   -0.3789</td> <td>    0.675</td> <td>   -0.562</td> <td> 0.574</td> <td>   -1.701</td> <td>    0.943</td>\n</tr>\n<tr>\n  <th>Country2</th>        <td>   -0.0653</td> <td>    0.669</td> <td>   -0.098</td> <td> 0.922</td> <td>   -1.376</td> <td>    1.246</td>\n</tr>\n<tr>\n  <th>Country3</th>        <td>  -21.6158</td> <td>    0.719</td> <td>  -30.063</td> <td> 0.000</td> <td>  -23.025</td> <td>  -20.207</td>\n</tr>\n<tr>\n  <th>Country4</th>        <td>   -0.7385</td> <td>    0.662</td> <td>   -1.115</td> <td> 0.265</td> <td>   -2.036</td> <td>    0.559</td>\n</tr>\n<tr>\n  <th>Country5</th>        <td>   -0.1584</td> <td>    1.392</td> <td>   -0.114</td> <td> 0.909</td> <td>   -2.886</td> <td>    2.569</td>\n</tr>\n<tr>\n  <th>Country6</th>        <td>    1.0257</td> <td>    0.872</td> <td>    1.177</td> <td> 0.239</td> <td>   -0.683</td> <td>    2.734</td>\n</tr>\n<tr>\n  <th>Country7</th>        <td>    0.9116</td> <td>    0.780</td> <td>    1.168</td> <td> 0.243</td> <td>   -0.618</td> <td>    2.441</td>\n</tr>\n<tr>\n  <th>Country9</th>        <td>    0.2631</td> <td>    0.858</td> <td>    0.306</td> <td> 0.759</td> <td>   -1.419</td> <td>    1.946</td>\n</tr>\n<tr>\n  <th>Country10</th>       <td>   -0.1930</td> <td>    0.628</td> <td>   -0.307</td> <td> 0.759</td> <td>   -1.424</td> <td>    1.038</td>\n</tr>\n</table>"
     },
     "metadata": {},
     "execution_count": 29
    }
   ],
   "source": [
    "Logit(y2, x2).fit(cov_type=\"hc0\").summary()"
   ]
  },
  {
   "cell_type": "code",
   "execution_count": 30,
   "metadata": {},
   "outputs": [
    {
     "output_type": "stream",
     "name": "stdout",
     "text": [
      "Warning: Maximum number of iterations has been exceeded.\n",
      "         Current function value: 0.340267\n",
      "         Iterations: 35\n",
      "/home/free/Documents/econometric/env/lib/python3.8/site-packages/statsmodels/base/model.py:566: ConvergenceWarning: Maximum Likelihood optimization failed to converge. Check mle_retvals\n",
      "  warnings.warn(\"Maximum Likelihood optimization failed to \"\n"
     ]
    },
    {
     "output_type": "execute_result",
     "data": {
      "text/plain": [
       "<class 'statsmodels.iolib.summary.Summary'>\n",
       "\"\"\"\n",
       "                          Probit Regression Results                           \n",
       "==============================================================================\n",
       "Dep. Variable:                   Fail   No. Observations:                  500\n",
       "Model:                         Probit   Df Residuals:                      479\n",
       "Method:                           MLE   Df Model:                           20\n",
       "Date:                Wed, 23 Dec 2020   Pseudo R-squ.:                  0.1362\n",
       "Time:                        20:27:31   Log-Likelihood:                -170.13\n",
       "converged:                      False   LL-Null:                       -196.96\n",
       "Covariance Type:            nonrobust   LLR p-value:                 6.511e-05\n",
       "===================================================================================\n",
       "                      coef    std err          z      P>|z|      [0.025      0.975]\n",
       "-----------------------------------------------------------------------------------\n",
       "const              -0.7879      0.686     -1.149      0.251      -2.132       0.556\n",
       "Age                -0.0122      0.023     -0.527      0.598      -0.058       0.033\n",
       "Female             -0.2349      0.193     -1.220      0.222      -0.612       0.142\n",
       "Work Experience    -0.3457      0.168     -2.055      0.040      -0.675      -0.016\n",
       "English            -0.0910      0.354     -0.257      0.797      -0.785       0.603\n",
       "PG Degree           0.2373      0.243      0.978      0.328      -0.238       0.713\n",
       "Agrade             -0.6288      0.260     -2.415      0.016      -1.139      -0.118\n",
       "BelowBGrade         0.3091      0.226      1.368      0.171      -0.134       0.752\n",
       "Year2004            0.3805      0.266      1.430      0.153      -0.141       0.902\n",
       "Year2005           -0.1080      0.312     -0.346      0.730      -0.720       0.504\n",
       "Year2006            0.6799      0.257      2.648      0.008       0.177       1.183\n",
       "Year2007            0.4328      0.270      1.601      0.109      -0.097       0.963\n",
       "Country1           -0.2275      0.376     -0.605      0.545      -0.965       0.510\n",
       "Country2           -0.0181      0.401     -0.045      0.964      -0.804       0.768\n",
       "Country3           -6.2731   2.14e+04     -0.000      1.000   -4.19e+04    4.19e+04\n",
       "Country4           -0.4046      0.347     -1.167      0.243      -1.084       0.275\n",
       "Country5           -0.0930      0.727     -0.128      0.898      -1.517       1.331\n",
       "Country6            0.5896      0.459      1.285      0.199      -0.310       1.489\n",
       "Country7            0.5483      0.463      1.185      0.236      -0.359       1.455\n",
       "Country9            0.1380      0.464      0.297      0.766      -0.772       1.048\n",
       "Country10          -0.0949      0.356     -0.267      0.790      -0.793       0.603\n",
       "===================================================================================\n",
       "\"\"\""
      ],
      "text/html": "<table class=\"simpletable\">\n<caption>Probit Regression Results</caption>\n<tr>\n  <th>Dep. Variable:</th>         <td>Fail</td>       <th>  No. Observations:  </th>  <td>   500</td>  \n</tr>\n<tr>\n  <th>Model:</th>                <td>Probit</td>      <th>  Df Residuals:      </th>  <td>   479</td>  \n</tr>\n<tr>\n  <th>Method:</th>                 <td>MLE</td>       <th>  Df Model:          </th>  <td>    20</td>  \n</tr>\n<tr>\n  <th>Date:</th>            <td>Wed, 23 Dec 2020</td> <th>  Pseudo R-squ.:     </th>  <td>0.1362</td>  \n</tr>\n<tr>\n  <th>Time:</th>                <td>20:27:31</td>     <th>  Log-Likelihood:    </th> <td> -170.13</td> \n</tr>\n<tr>\n  <th>converged:</th>             <td>False</td>      <th>  LL-Null:           </th> <td> -196.96</td> \n</tr>\n<tr>\n  <th>Covariance Type:</th>     <td>nonrobust</td>    <th>  LLR p-value:       </th> <td>6.511e-05</td>\n</tr>\n</table>\n<table class=\"simpletable\">\n<tr>\n         <td></td>            <th>coef</th>     <th>std err</th>      <th>z</th>      <th>P>|z|</th>  <th>[0.025</th>    <th>0.975]</th>  \n</tr>\n<tr>\n  <th>const</th>           <td>   -0.7879</td> <td>    0.686</td> <td>   -1.149</td> <td> 0.251</td> <td>   -2.132</td> <td>    0.556</td>\n</tr>\n<tr>\n  <th>Age</th>             <td>   -0.0122</td> <td>    0.023</td> <td>   -0.527</td> <td> 0.598</td> <td>   -0.058</td> <td>    0.033</td>\n</tr>\n<tr>\n  <th>Female</th>          <td>   -0.2349</td> <td>    0.193</td> <td>   -1.220</td> <td> 0.222</td> <td>   -0.612</td> <td>    0.142</td>\n</tr>\n<tr>\n  <th>Work Experience</th> <td>   -0.3457</td> <td>    0.168</td> <td>   -2.055</td> <td> 0.040</td> <td>   -0.675</td> <td>   -0.016</td>\n</tr>\n<tr>\n  <th>English</th>         <td>   -0.0910</td> <td>    0.354</td> <td>   -0.257</td> <td> 0.797</td> <td>   -0.785</td> <td>    0.603</td>\n</tr>\n<tr>\n  <th>PG Degree</th>       <td>    0.2373</td> <td>    0.243</td> <td>    0.978</td> <td> 0.328</td> <td>   -0.238</td> <td>    0.713</td>\n</tr>\n<tr>\n  <th>Agrade</th>          <td>   -0.6288</td> <td>    0.260</td> <td>   -2.415</td> <td> 0.016</td> <td>   -1.139</td> <td>   -0.118</td>\n</tr>\n<tr>\n  <th>BelowBGrade</th>     <td>    0.3091</td> <td>    0.226</td> <td>    1.368</td> <td> 0.171</td> <td>   -0.134</td> <td>    0.752</td>\n</tr>\n<tr>\n  <th>Year2004</th>        <td>    0.3805</td> <td>    0.266</td> <td>    1.430</td> <td> 0.153</td> <td>   -0.141</td> <td>    0.902</td>\n</tr>\n<tr>\n  <th>Year2005</th>        <td>   -0.1080</td> <td>    0.312</td> <td>   -0.346</td> <td> 0.730</td> <td>   -0.720</td> <td>    0.504</td>\n</tr>\n<tr>\n  <th>Year2006</th>        <td>    0.6799</td> <td>    0.257</td> <td>    2.648</td> <td> 0.008</td> <td>    0.177</td> <td>    1.183</td>\n</tr>\n<tr>\n  <th>Year2007</th>        <td>    0.4328</td> <td>    0.270</td> <td>    1.601</td> <td> 0.109</td> <td>   -0.097</td> <td>    0.963</td>\n</tr>\n<tr>\n  <th>Country1</th>        <td>   -0.2275</td> <td>    0.376</td> <td>   -0.605</td> <td> 0.545</td> <td>   -0.965</td> <td>    0.510</td>\n</tr>\n<tr>\n  <th>Country2</th>        <td>   -0.0181</td> <td>    0.401</td> <td>   -0.045</td> <td> 0.964</td> <td>   -0.804</td> <td>    0.768</td>\n</tr>\n<tr>\n  <th>Country3</th>        <td>   -6.2731</td> <td> 2.14e+04</td> <td>   -0.000</td> <td> 1.000</td> <td>-4.19e+04</td> <td> 4.19e+04</td>\n</tr>\n<tr>\n  <th>Country4</th>        <td>   -0.4046</td> <td>    0.347</td> <td>   -1.167</td> <td> 0.243</td> <td>   -1.084</td> <td>    0.275</td>\n</tr>\n<tr>\n  <th>Country5</th>        <td>   -0.0930</td> <td>    0.727</td> <td>   -0.128</td> <td> 0.898</td> <td>   -1.517</td> <td>    1.331</td>\n</tr>\n<tr>\n  <th>Country6</th>        <td>    0.5896</td> <td>    0.459</td> <td>    1.285</td> <td> 0.199</td> <td>   -0.310</td> <td>    1.489</td>\n</tr>\n<tr>\n  <th>Country7</th>        <td>    0.5483</td> <td>    0.463</td> <td>    1.185</td> <td> 0.236</td> <td>   -0.359</td> <td>    1.455</td>\n</tr>\n<tr>\n  <th>Country9</th>        <td>    0.1380</td> <td>    0.464</td> <td>    0.297</td> <td> 0.766</td> <td>   -0.772</td> <td>    1.048</td>\n</tr>\n<tr>\n  <th>Country10</th>       <td>   -0.0949</td> <td>    0.356</td> <td>   -0.267</td> <td> 0.790</td> <td>   -0.793</td> <td>    0.603</td>\n</tr>\n</table>"
     },
     "metadata": {},
     "execution_count": 30
    }
   ],
   "source": [
    "Probit(y2, x2).fit().summary()"
   ]
  },
  {
   "source": [
    "# Question 3"
   ],
   "cell_type": "markdown",
   "metadata": {}
  },
  {
   "cell_type": "code",
   "execution_count": 31,
   "metadata": {},
   "outputs": [],
   "source": [
    "msc_age = pd.read_csv(\"MSc_LogAge.csv\") \n",
    "\n",
    "msc_age.head()\n",
    "\n",
    "x3_list = [\"Female\", \"Work Experience\", \"English\", \n",
    "           \"PG Degree\", \"Agrade\", \"BelowBGrade\", \"Year2004\", \n",
    "           \"Year2005\", \"Year2006\", \"Year2007\", \"Country1\",\n",
    "           \"Country2\", \"Country3\", \"Country4\", \"Country5\",\n",
    "           \"Country6\", \"Country7\", \"Country9\", \"Country10\", \"LogAge\"]\n",
    "y3 = msc_age[\"Fail\"]\n",
    "x3 = msc_age[x3_list]"
   ]
  },
  {
   "cell_type": "code",
   "execution_count": 32,
   "metadata": {},
   "outputs": [
    {
     "output_type": "stream",
     "name": "stdout",
     "text": [
      "Warning: Maximum number of iterations has been exceeded.\n",
      "         Current function value: 0.340690\n",
      "         Iterations: 35\n",
      "/home/free/Documents/econometric/env/lib/python3.8/site-packages/statsmodels/base/model.py:566: ConvergenceWarning: Maximum Likelihood optimization failed to converge. Check mle_retvals\n",
      "  warnings.warn(\"Maximum Likelihood optimization failed to \"\n"
     ]
    },
    {
     "output_type": "execute_result",
     "data": {
      "text/plain": [
       "<class 'statsmodels.iolib.summary.Summary'>\n",
       "\"\"\"\n",
       "                           Logit Regression Results                           \n",
       "==============================================================================\n",
       "Dep. Variable:                   Fail   No. Observations:                  500\n",
       "Model:                          Logit   Df Residuals:                      479\n",
       "Method:                           MLE   Df Model:                           20\n",
       "Date:                Wed, 23 Dec 2020   Pseudo R-squ.:                  0.1351\n",
       "Time:                        20:27:31   Log-Likelihood:                -170.34\n",
       "converged:                      False   LL-Null:                       -196.96\n",
       "Covariance Type:            nonrobust   LLR p-value:                 7.516e-05\n",
       "===================================================================================\n",
       "                      coef    std err          z      P>|z|      [0.025      0.975]\n",
       "-----------------------------------------------------------------------------------\n",
       "const               2.2833      4.410      0.518      0.605      -6.360      10.927\n",
       "Female             -0.4198      0.363     -1.158      0.247      -1.130       0.291\n",
       "Work Experience    -0.6042      0.307     -1.967      0.049      -1.206      -0.002\n",
       "English            -0.2086      0.654     -0.319      0.750      -1.490       1.073\n",
       "PG Degree           0.5064      0.440      1.150      0.250      -0.357       1.370\n",
       "Agrade             -1.1906      0.518     -2.297      0.022      -2.206      -0.175\n",
       "BelowBGrade         0.5092      0.392      1.300      0.194      -0.258       1.277\n",
       "Year2004            0.6721      0.512      1.313      0.189      -0.331       1.675\n",
       "Year2005           -0.1808      0.605     -0.299      0.765      -1.366       1.005\n",
       "Year2006            1.2239      0.485      2.523      0.012       0.273       2.175\n",
       "Year2007            0.7981      0.512      1.558      0.119      -0.206       1.802\n",
       "Country1           -0.3930      0.691     -0.569      0.570      -1.748       0.962\n",
       "Country2           -0.0392      0.729     -0.054      0.957      -1.467       1.389\n",
       "Country3          -21.8689   2.28e+04     -0.001      0.999   -4.47e+04    4.46e+04\n",
       "Country4           -0.7746      0.670     -1.156      0.248      -2.088       0.539\n",
       "Country5           -0.0113      1.356     -0.008      0.993      -2.669       2.647\n",
       "Country6            1.1492      0.818      1.405      0.160      -0.454       2.753\n",
       "Country7            0.9691      0.831      1.167      0.243      -0.659       2.597\n",
       "Country9            0.2968      0.857      0.346      0.729      -1.383       1.977\n",
       "Country10          -0.1418      0.662     -0.214      0.830      -1.440       1.156\n",
       "LogAge             -1.2892      1.363     -0.946      0.344      -3.961       1.382\n",
       "===================================================================================\n",
       "\"\"\""
      ],
      "text/html": "<table class=\"simpletable\">\n<caption>Logit Regression Results</caption>\n<tr>\n  <th>Dep. Variable:</th>         <td>Fail</td>       <th>  No. Observations:  </th>  <td>   500</td>  \n</tr>\n<tr>\n  <th>Model:</th>                 <td>Logit</td>      <th>  Df Residuals:      </th>  <td>   479</td>  \n</tr>\n<tr>\n  <th>Method:</th>                 <td>MLE</td>       <th>  Df Model:          </th>  <td>    20</td>  \n</tr>\n<tr>\n  <th>Date:</th>            <td>Wed, 23 Dec 2020</td> <th>  Pseudo R-squ.:     </th>  <td>0.1351</td>  \n</tr>\n<tr>\n  <th>Time:</th>                <td>20:27:31</td>     <th>  Log-Likelihood:    </th> <td> -170.34</td> \n</tr>\n<tr>\n  <th>converged:</th>             <td>False</td>      <th>  LL-Null:           </th> <td> -196.96</td> \n</tr>\n<tr>\n  <th>Covariance Type:</th>     <td>nonrobust</td>    <th>  LLR p-value:       </th> <td>7.516e-05</td>\n</tr>\n</table>\n<table class=\"simpletable\">\n<tr>\n         <td></td>            <th>coef</th>     <th>std err</th>      <th>z</th>      <th>P>|z|</th>  <th>[0.025</th>    <th>0.975]</th>  \n</tr>\n<tr>\n  <th>const</th>           <td>    2.2833</td> <td>    4.410</td> <td>    0.518</td> <td> 0.605</td> <td>   -6.360</td> <td>   10.927</td>\n</tr>\n<tr>\n  <th>Female</th>          <td>   -0.4198</td> <td>    0.363</td> <td>   -1.158</td> <td> 0.247</td> <td>   -1.130</td> <td>    0.291</td>\n</tr>\n<tr>\n  <th>Work Experience</th> <td>   -0.6042</td> <td>    0.307</td> <td>   -1.967</td> <td> 0.049</td> <td>   -1.206</td> <td>   -0.002</td>\n</tr>\n<tr>\n  <th>English</th>         <td>   -0.2086</td> <td>    0.654</td> <td>   -0.319</td> <td> 0.750</td> <td>   -1.490</td> <td>    1.073</td>\n</tr>\n<tr>\n  <th>PG Degree</th>       <td>    0.5064</td> <td>    0.440</td> <td>    1.150</td> <td> 0.250</td> <td>   -0.357</td> <td>    1.370</td>\n</tr>\n<tr>\n  <th>Agrade</th>          <td>   -1.1906</td> <td>    0.518</td> <td>   -2.297</td> <td> 0.022</td> <td>   -2.206</td> <td>   -0.175</td>\n</tr>\n<tr>\n  <th>BelowBGrade</th>     <td>    0.5092</td> <td>    0.392</td> <td>    1.300</td> <td> 0.194</td> <td>   -0.258</td> <td>    1.277</td>\n</tr>\n<tr>\n  <th>Year2004</th>        <td>    0.6721</td> <td>    0.512</td> <td>    1.313</td> <td> 0.189</td> <td>   -0.331</td> <td>    1.675</td>\n</tr>\n<tr>\n  <th>Year2005</th>        <td>   -0.1808</td> <td>    0.605</td> <td>   -0.299</td> <td> 0.765</td> <td>   -1.366</td> <td>    1.005</td>\n</tr>\n<tr>\n  <th>Year2006</th>        <td>    1.2239</td> <td>    0.485</td> <td>    2.523</td> <td> 0.012</td> <td>    0.273</td> <td>    2.175</td>\n</tr>\n<tr>\n  <th>Year2007</th>        <td>    0.7981</td> <td>    0.512</td> <td>    1.558</td> <td> 0.119</td> <td>   -0.206</td> <td>    1.802</td>\n</tr>\n<tr>\n  <th>Country1</th>        <td>   -0.3930</td> <td>    0.691</td> <td>   -0.569</td> <td> 0.570</td> <td>   -1.748</td> <td>    0.962</td>\n</tr>\n<tr>\n  <th>Country2</th>        <td>   -0.0392</td> <td>    0.729</td> <td>   -0.054</td> <td> 0.957</td> <td>   -1.467</td> <td>    1.389</td>\n</tr>\n<tr>\n  <th>Country3</th>        <td>  -21.8689</td> <td> 2.28e+04</td> <td>   -0.001</td> <td> 0.999</td> <td>-4.47e+04</td> <td> 4.46e+04</td>\n</tr>\n<tr>\n  <th>Country4</th>        <td>   -0.7746</td> <td>    0.670</td> <td>   -1.156</td> <td> 0.248</td> <td>   -2.088</td> <td>    0.539</td>\n</tr>\n<tr>\n  <th>Country5</th>        <td>   -0.0113</td> <td>    1.356</td> <td>   -0.008</td> <td> 0.993</td> <td>   -2.669</td> <td>    2.647</td>\n</tr>\n<tr>\n  <th>Country6</th>        <td>    1.1492</td> <td>    0.818</td> <td>    1.405</td> <td> 0.160</td> <td>   -0.454</td> <td>    2.753</td>\n</tr>\n<tr>\n  <th>Country7</th>        <td>    0.9691</td> <td>    0.831</td> <td>    1.167</td> <td> 0.243</td> <td>   -0.659</td> <td>    2.597</td>\n</tr>\n<tr>\n  <th>Country9</th>        <td>    0.2968</td> <td>    0.857</td> <td>    0.346</td> <td> 0.729</td> <td>   -1.383</td> <td>    1.977</td>\n</tr>\n<tr>\n  <th>Country10</th>       <td>   -0.1418</td> <td>    0.662</td> <td>   -0.214</td> <td> 0.830</td> <td>   -1.440</td> <td>    1.156</td>\n</tr>\n<tr>\n  <th>LogAge</th>          <td>   -1.2892</td> <td>    1.363</td> <td>   -0.946</td> <td> 0.344</td> <td>   -3.961</td> <td>    1.382</td>\n</tr>\n</table>"
     },
     "metadata": {},
     "execution_count": 32
    }
   ],
   "source": [
    "x3 = add_constant(x3)\n",
    "Logit(y3, x3).fit().summary()"
   ]
  },
  {
   "cell_type": "code",
   "execution_count": 33,
   "metadata": {},
   "outputs": [
    {
     "output_type": "execute_result",
     "data": {
      "text/plain": [
       "            feature         VIF\n",
       "0             const  940.642490\n",
       "1            Female    1.203047\n",
       "2   Work Experience    1.137165\n",
       "3           English    5.262887\n",
       "4         PG Degree    1.327798\n",
       "5            Agrade    1.159329\n",
       "6       BelowBGrade    1.124524\n",
       "7          Year2004    1.674100\n",
       "8          Year2005    1.756683\n",
       "9          Year2006    1.706126\n",
       "10         Year2007    1.850955\n",
       "11         Country1    1.151826\n",
       "12         Country2    4.415502\n",
       "13         Country3    2.408283\n",
       "14         Country4    1.234985\n",
       "15         Country5    1.593440\n",
       "16         Country6    1.179815\n",
       "17         Country7    2.597576\n",
       "18         Country9    1.629389\n",
       "19        Country10    2.254665\n",
       "20           LogAge    1.811962"
      ],
      "text/html": "<div>\n<style scoped>\n    .dataframe tbody tr th:only-of-type {\n        vertical-align: middle;\n    }\n\n    .dataframe tbody tr th {\n        vertical-align: top;\n    }\n\n    .dataframe thead th {\n        text-align: right;\n    }\n</style>\n<table border=\"1\" class=\"dataframe\">\n  <thead>\n    <tr style=\"text-align: right;\">\n      <th></th>\n      <th>feature</th>\n      <th>VIF</th>\n    </tr>\n  </thead>\n  <tbody>\n    <tr>\n      <th>0</th>\n      <td>const</td>\n      <td>940.642490</td>\n    </tr>\n    <tr>\n      <th>1</th>\n      <td>Female</td>\n      <td>1.203047</td>\n    </tr>\n    <tr>\n      <th>2</th>\n      <td>Work Experience</td>\n      <td>1.137165</td>\n    </tr>\n    <tr>\n      <th>3</th>\n      <td>English</td>\n      <td>5.262887</td>\n    </tr>\n    <tr>\n      <th>4</th>\n      <td>PG Degree</td>\n      <td>1.327798</td>\n    </tr>\n    <tr>\n      <th>5</th>\n      <td>Agrade</td>\n      <td>1.159329</td>\n    </tr>\n    <tr>\n      <th>6</th>\n      <td>BelowBGrade</td>\n      <td>1.124524</td>\n    </tr>\n    <tr>\n      <th>7</th>\n      <td>Year2004</td>\n      <td>1.674100</td>\n    </tr>\n    <tr>\n      <th>8</th>\n      <td>Year2005</td>\n      <td>1.756683</td>\n    </tr>\n    <tr>\n      <th>9</th>\n      <td>Year2006</td>\n      <td>1.706126</td>\n    </tr>\n    <tr>\n      <th>10</th>\n      <td>Year2007</td>\n      <td>1.850955</td>\n    </tr>\n    <tr>\n      <th>11</th>\n      <td>Country1</td>\n      <td>1.151826</td>\n    </tr>\n    <tr>\n      <th>12</th>\n      <td>Country2</td>\n      <td>4.415502</td>\n    </tr>\n    <tr>\n      <th>13</th>\n      <td>Country3</td>\n      <td>2.408283</td>\n    </tr>\n    <tr>\n      <th>14</th>\n      <td>Country4</td>\n      <td>1.234985</td>\n    </tr>\n    <tr>\n      <th>15</th>\n      <td>Country5</td>\n      <td>1.593440</td>\n    </tr>\n    <tr>\n      <th>16</th>\n      <td>Country6</td>\n      <td>1.179815</td>\n    </tr>\n    <tr>\n      <th>17</th>\n      <td>Country7</td>\n      <td>2.597576</td>\n    </tr>\n    <tr>\n      <th>18</th>\n      <td>Country9</td>\n      <td>1.629389</td>\n    </tr>\n    <tr>\n      <th>19</th>\n      <td>Country10</td>\n      <td>2.254665</td>\n    </tr>\n    <tr>\n      <th>20</th>\n      <td>LogAge</td>\n      <td>1.811962</td>\n    </tr>\n  </tbody>\n</table>\n</div>"
     },
     "metadata": {},
     "execution_count": 33
    }
   ],
   "source": [
    "from statsmodels.stats.outliers_influence import variance_inflation_factor \n",
    "  \n",
    "# VIF dataframe \n",
    "vif_data = pd.DataFrame() \n",
    "vif_data[\"feature\"] = x3.columns \n",
    "  \n",
    "# calculating VIF for each feature \n",
    "vif_data[\"VIF\"] = [variance_inflation_factor(x3.values, i) \n",
    "                          for i in range(len(x3.columns))] \n",
    "  \n",
    "vif_data"
   ]
  },
  {
   "source": [
    "remove high vif or high p-value"
   ],
   "cell_type": "markdown",
   "metadata": {}
  },
  {
   "cell_type": "code",
   "execution_count": 34,
   "metadata": {},
   "outputs": [
    {
     "output_type": "stream",
     "name": "stdout",
     "text": [
      "Optimization terminated successfully.\n         Current function value: 0.372750\n         Iterations 7\n"
     ]
    },
    {
     "output_type": "execute_result",
     "data": {
      "text/plain": [
       "<class 'statsmodels.iolib.summary.Summary'>\n",
       "\"\"\"\n",
       "                           Logit Regression Results                           \n",
       "==============================================================================\n",
       "Dep. Variable:                   Fail   No. Observations:                  500\n",
       "Model:                          Logit   Df Residuals:                      496\n",
       "Method:                           MLE   Df Model:                            3\n",
       "Date:                Wed, 23 Dec 2020   Pseudo R-squ.:                 0.05374\n",
       "Time:                        20:27:31   Log-Likelihood:                -186.37\n",
       "converged:                       True   LL-Null:                       -196.96\n",
       "Covariance Type:            nonrobust   LLR p-value:                 9.703e-05\n",
       "===================================================================================\n",
       "                      coef    std err          z      P>|z|      [0.025      0.975]\n",
       "-----------------------------------------------------------------------------------\n",
       "const              -1.6688      0.213     -7.850      0.000      -2.085      -1.252\n",
       "Work Experience    -0.4520      0.268     -1.684      0.092      -0.978       0.074\n",
       "Agrade             -1.2718      0.482     -2.639      0.008      -2.216      -0.327\n",
       "Year2006            0.8672      0.291      2.984      0.003       0.298       1.437\n",
       "===================================================================================\n",
       "\"\"\""
      ],
      "text/html": "<table class=\"simpletable\">\n<caption>Logit Regression Results</caption>\n<tr>\n  <th>Dep. Variable:</th>         <td>Fail</td>       <th>  No. Observations:  </th>  <td>   500</td>  \n</tr>\n<tr>\n  <th>Model:</th>                 <td>Logit</td>      <th>  Df Residuals:      </th>  <td>   496</td>  \n</tr>\n<tr>\n  <th>Method:</th>                 <td>MLE</td>       <th>  Df Model:          </th>  <td>     3</td>  \n</tr>\n<tr>\n  <th>Date:</th>            <td>Wed, 23 Dec 2020</td> <th>  Pseudo R-squ.:     </th>  <td>0.05374</td> \n</tr>\n<tr>\n  <th>Time:</th>                <td>20:27:31</td>     <th>  Log-Likelihood:    </th> <td> -186.37</td> \n</tr>\n<tr>\n  <th>converged:</th>             <td>True</td>       <th>  LL-Null:           </th> <td> -196.96</td> \n</tr>\n<tr>\n  <th>Covariance Type:</th>     <td>nonrobust</td>    <th>  LLR p-value:       </th> <td>9.703e-05</td>\n</tr>\n</table>\n<table class=\"simpletable\">\n<tr>\n         <td></td>            <th>coef</th>     <th>std err</th>      <th>z</th>      <th>P>|z|</th>  <th>[0.025</th>    <th>0.975]</th>  \n</tr>\n<tr>\n  <th>const</th>           <td>   -1.6688</td> <td>    0.213</td> <td>   -7.850</td> <td> 0.000</td> <td>   -2.085</td> <td>   -1.252</td>\n</tr>\n<tr>\n  <th>Work Experience</th> <td>   -0.4520</td> <td>    0.268</td> <td>   -1.684</td> <td> 0.092</td> <td>   -0.978</td> <td>    0.074</td>\n</tr>\n<tr>\n  <th>Agrade</th>          <td>   -1.2718</td> <td>    0.482</td> <td>   -2.639</td> <td> 0.008</td> <td>   -2.216</td> <td>   -0.327</td>\n</tr>\n<tr>\n  <th>Year2006</th>        <td>    0.8672</td> <td>    0.291</td> <td>    2.984</td> <td> 0.003</td> <td>    0.298</td> <td>    1.437</td>\n</tr>\n</table>"
     },
     "metadata": {},
     "execution_count": 34
    }
   ],
   "source": [
    "x3_list = [\"Work Experience\",\n",
    "           \"Agrade\",\n",
    "           \"Year2006\"]\n",
    "y3 = msc_age[\"Fail\"]\n",
    "x3 = msc_age[x3_list]\n",
    "x3 = add_constant(x3)\n",
    "Logit(y3, x3).fit().summary()"
   ]
  }
 ]
}