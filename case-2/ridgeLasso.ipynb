{
 "metadata": {
  "language_info": {
   "codemirror_mode": {
    "name": "ipython",
    "version": 3
   },
   "file_extension": ".py",
   "mimetype": "text/x-python",
   "name": "python",
   "nbconvert_exporter": "python",
   "pygments_lexer": "ipython3",
   "version": "3.8.6-final"
  },
  "orig_nbformat": 2,
  "kernelspec": {
   "name": "Python 3.8.6 64-bit ('env')",
   "display_name": "Python 3.8.6 64-bit ('env')",
   "metadata": {
    "interpreter": {
     "hash": "78649e55e5acd649a10e0977426938e123177fa673f722ef5f17a019c99ed967"
    }
   }
  }
 },
 "nbformat": 4,
 "nbformat_minor": 2,
 "cells": [
  {
   "source": [
    "# Lasso regression\n",
    "\n",
    "import the dataset"
   ],
   "cell_type": "markdown",
   "metadata": {}
  },
  {
   "cell_type": "code",
   "execution_count": 101,
   "metadata": {
    "tags": []
   },
   "outputs": [
    {
     "output_type": "stream",
     "name": "stdout",
     "text": [
      "   Average Sales ($ million)  Hours Worked per Week  Number of Customers\n0                       16.4                     45                   56\n1                       16.1                     41                   51\n2                       15.7                     42                   55\n3                       13.8                     39                   53\n4                       12.3                     41                   38\n"
     ]
    }
   ],
   "source": [
    "import pandas as pd \n",
    "\n",
    "dataset = pd.read_csv('csv/part2.csv', header=0)\n",
    "print(dataset.head())"
   ]
  },
  {
   "source": [
    "split the data into training and testing parts"
   ],
   "cell_type": "markdown",
   "metadata": {}
  },
  {
   "cell_type": "code",
   "execution_count": 102,
   "metadata": {},
   "outputs": [],
   "source": [
    "y = dataset['Average Sales ($ million)']\n",
    "x_names = ['Hours Worked per Week', 'Number of Customers']\n",
    "x = dataset[x_names]\n",
    "\n",
    "from sklearn import model_selection\n",
    "\n",
    "x_train, x_test, y_train, y_test = model_selection.train_test_split(x, y, random_state=0, train_size=0.7) "
   ]
  },
  {
   "source": [
    "using MinMaxScaler to transform and normalize the data"
   ],
   "cell_type": "markdown",
   "metadata": {}
  },
  {
   "cell_type": "code",
   "execution_count": 103,
   "metadata": {},
   "outputs": [],
   "source": [
    "from sklearn.preprocessing import MinMaxScaler\n",
    "\n",
    "scaler = MinMaxScaler()\n",
    "x_train_scaled = scaler.fit_transform(x_train)\n",
    "x_test_scaled = scaler.transform(x_test)"
   ]
  },
  {
   "source": [
    "fit the data to the Lasso regression"
   ],
   "cell_type": "markdown",
   "metadata": {}
  },
  {
   "cell_type": "code",
   "execution_count": 104,
   "metadata": {},
   "outputs": [],
   "source": [
    "from sklearn.linear_model import Lasso\n",
    "\n",
    "linlasso = Lasso(alpha=10, max_iter=10000).fit(x_train_scaled, y_train)"
   ]
  },
  {
   "source": [
    "now we see how well the data fits"
   ],
   "cell_type": "markdown",
   "metadata": {}
  },
  {
   "cell_type": "code",
   "execution_count": 105,
   "metadata": {},
   "outputs": [
    {
     "output_type": "stream",
     "name": "stdout",
     "text": [
      "Lasso regression model intercept: 12.757142857142856\nLasso regression model coefficient: [0. 0.]\nNon-zero features: 0\nR-squared (training): 0.000\nR-squared (testing): -0.255\nFeatures with non-zero weight (sorted by magnitude):\n"
     ]
    }
   ],
   "source": [
    "import numpy as np \n",
    "\n",
    "print('Lasso regression model intercept: {}'.format(linlasso.intercept_))\n",
    "print('Lasso regression model coefficient: {}'.format(linlasso.coef_))\n",
    "print('Non-zero features: {}'.format(np.sum(linlasso.coef_!= 0)))\n",
    "print('R-squared (training): {:.3f}'.format(linlasso.score(x_train_scaled, y_train)))\n",
    "print('R-squared (testing): {:.3f}'.format(linlasso.score(x_test_scaled, y_test)))\n",
    "print('Features with non-zero weight (sorted by magnitude):')\n",
    "\n",
    "for e in sorted(list(zip(list(x), linlasso.coef_)), key = lambda e: -abs(e[1])):\n",
    "    if e[1] != 0:\n",
    "        print('\\t{}, {:.3f}'.format(e[0]. e[1]))"
   ]
  },
  {
   "source": [
    "terrible, now let's add polynomials"
   ],
   "cell_type": "markdown",
   "metadata": {}
  },
  {
   "cell_type": "code",
   "execution_count": 106,
   "metadata": {},
   "outputs": [
    {
     "output_type": "stream",
     "name": "stdout",
     "text": [
      "Lasso regression model intercept: 12.757142857142856\nLasso regression model coefficient: [0. 0. 0. 0. 0. 0. 0. 0. 0. 0.]\nNon-zero features: 0\nR-squared (training): 0.000\nR-squared (testing): -0.255\nFeatures with non-zero weight (sorted by magnitude):\n"
     ]
    }
   ],
   "source": [
    "from sklearn.preprocessing import PolynomialFeatures\n",
    "\n",
    "poly = PolynomialFeatures(degree=3)\n",
    "x_poly = poly.fit_transform(x)\n",
    "\n",
    "x_train_poly, x_test_poly, y_train, y_test = model_selection.train_test_split(x_poly, y, random_state=0)\n",
    "\n",
    "poly_scaler = MinMaxScaler()\n",
    "x_trainp_scaled = scaler.fit_transform(x_train_poly)\n",
    "x_testp_scaled = scaler.transform(x_test_poly)\n",
    "\n",
    "polylasso = Lasso(alpha=10, max_iter=10000).fit(x_trainp_scaled, y_train)\n",
    "\n",
    "\n",
    "print('Lasso regression model intercept: {}'.format(polylasso.intercept_))\n",
    "print('Lasso regression model coefficient: {}'.format(polylasso.coef_))\n",
    "print('Non-zero features: {}'.format(np.sum(polylasso.coef_!= 0)))\n",
    "print('R-squared (training): {:.3f}'.format(polylasso.score(x_trainp_scaled, y_train)))\n",
    "print('R-squared (testing): {:.3f}'.format(polylasso.score(x_test_poly, y_test)))\n",
    "print('Features with non-zero weight (sorted by magnitude):')\n",
    "\n",
    "for e in sorted(list(zip(list(x), polylasso.coef_)), key = lambda e: -abs(e[1])):\n",
    "    if e[1] != 0:\n",
    "        print('\\t{}, {:.3f}'.format(e[0]. e[1]))"
   ]
  },
  {
   "source": [
    "not at all better"
   ],
   "cell_type": "markdown",
   "metadata": {}
  }
 ]
}